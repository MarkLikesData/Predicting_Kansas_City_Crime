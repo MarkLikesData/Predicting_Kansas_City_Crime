{
 "cells": [
  {
   "cell_type": "markdown",
   "metadata": {},
   "source": [
    "# Machine Learning Project\n",
    "# Kansas City Crime Data Deep Dive"
   ]
  },
  {
   "cell_type": "markdown",
   "metadata": {},
   "source": [
    "### Import Dependancies"
   ]
  },
  {
   "cell_type": "code",
   "execution_count": 1,
   "metadata": {
    "collapsed": true
   },
   "outputs": [],
   "source": [
    "import warnings\n",
    "warnings.simplefilter('ignore')\n",
    "\n",
    "%matplotlib inline\n",
    "import matplotlib\n",
    "import matplotlib.pyplot as plt\n",
    "import numpy as np\n",
    "np.random.seed(1)\n",
    "import pandas as pd\n",
    "from pandas import datetime\n",
    "from dateutil import parser\n",
    "from scipy import stats\n",
    "import glob\n",
    "import os"
   ]
  },
  {
   "cell_type": "markdown",
   "metadata": {},
   "source": [
    "### Obtain KCMO crime data (Raw data came from data.kcmo.org)"
   ]
  },
  {
   "cell_type": "code",
   "execution_count": 2,
   "metadata": {
    "scrolled": false
   },
   "outputs": [],
   "source": [
    "kcmo_crime_2017 = os.path.join('Resources', 'KCPD_Crime_Data_2017.csv')\n",
    "kcmo_crime_2016 = os.path.join('Resources', 'KCPD_Crime_Data_2016.csv')\n",
    "kcmo_crime_2015 = os.path.join('Resources', 'KCPD_Crime_Data_2015.csv')\n",
    "kcmo_crime_2014 = os.path.join('Resources', 'KCPD_Crime_Data_2014.csv')\n",
    "kcmo_crime_2013 = os.path.join('Resources', 'KCPD_Crime_Data_2013.csv')\n",
    "kcmo_crime_2012 = os.path.join('Resources', 'KCPD_Crime_Data_2012.csv')\n",
    "kcmo_crime_2011 = os.path.join('Resources', 'KCPD_Crime_Data_2011.csv')\n",
    "kcmo_crime_2010 = os.path.join('Resources', 'KCPD_Crime_Data_2010.csv')\n",
    "kcmo_crime_2009 = os.path.join('Resources', 'KCPD_Crime_Data_2009.csv')\n",
    "\n",
    "crime_2017 = pd.read_csv(kcmo_crime_2017)\n",
    "crime_2016 = pd.read_csv(kcmo_crime_2016)\n",
    "crime_2015 = pd.read_csv(kcmo_crime_2015)\n",
    "crime_2014 = pd.read_csv(kcmo_crime_2014)\n",
    "crime_2013 = pd.read_csv(kcmo_crime_2013)\n",
    "crime_2012 = pd.read_csv(kcmo_crime_2012)\n",
    "crime_2011 = pd.read_csv(kcmo_crime_2011)\n",
    "crime_2010 = pd.read_csv(kcmo_crime_2010)\n",
    "crime_2009 = pd.read_csv(kcmo_crime_2009)"
   ]
  },
  {
   "cell_type": "code",
   "execution_count": 3,
   "metadata": {},
   "outputs": [
    {
     "data": {
      "text/html": [
       "<div>\n",
       "<style>\n",
       "    .dataframe thead tr:only-child th {\n",
       "        text-align: right;\n",
       "    }\n",
       "\n",
       "    .dataframe thead th {\n",
       "        text-align: left;\n",
       "    }\n",
       "\n",
       "    .dataframe tbody tr th {\n",
       "        vertical-align: top;\n",
       "    }\n",
       "</style>\n",
       "<table border=\"1\" class=\"dataframe\">\n",
       "  <thead>\n",
       "    <tr style=\"text-align: right;\">\n",
       "      <th></th>\n",
       "      <th>Address</th>\n",
       "      <th>Age</th>\n",
       "      <th>Area</th>\n",
       "      <th>Beat</th>\n",
       "      <th>City</th>\n",
       "      <th>DVFlag</th>\n",
       "      <th>Description</th>\n",
       "      <th>Firearm Used Flag</th>\n",
       "      <th>Firearm Used Flag</th>\n",
       "      <th>From Time</th>\n",
       "      <th>...</th>\n",
       "      <th>Rep_Dist</th>\n",
       "      <th>Report_No</th>\n",
       "      <th>Reported Time</th>\n",
       "      <th>Reported_Date</th>\n",
       "      <th>Reported_Time</th>\n",
       "      <th>Sex</th>\n",
       "      <th>To Time</th>\n",
       "      <th>To_Date</th>\n",
       "      <th>To_Time</th>\n",
       "      <th>Zip Code</th>\n",
       "    </tr>\n",
       "  </thead>\n",
       "  <tbody>\n",
       "    <tr>\n",
       "      <th>0</th>\n",
       "      <td>PROSPECT AV/VICTOR ST</td>\n",
       "      <td>28.0</td>\n",
       "      <td>EPD</td>\n",
       "      <td>333</td>\n",
       "      <td>KANSAS CITY</td>\n",
       "      <td>U</td>\n",
       "      <td>Possession of Drug E</td>\n",
       "      <td>NaN</td>\n",
       "      <td>N</td>\n",
       "      <td>22:56</td>\n",
       "      <td>...</td>\n",
       "      <td>PJ2327</td>\n",
       "      <td>70059279</td>\n",
       "      <td>3:24</td>\n",
       "      <td>10/06/2009</td>\n",
       "      <td>NaN</td>\n",
       "      <td>F</td>\n",
       "      <td>NaN</td>\n",
       "      <td>10/05/2009 12:00:00 AM</td>\n",
       "      <td>23:10</td>\n",
       "      <td>64128.0</td>\n",
       "    </tr>\n",
       "    <tr>\n",
       "      <th>1</th>\n",
       "      <td>1100  LOCUST ST</td>\n",
       "      <td>27.0</td>\n",
       "      <td>CPD</td>\n",
       "      <td>112</td>\n",
       "      <td>KANSAS CITY</td>\n",
       "      <td>U</td>\n",
       "      <td>Justifiable Homicide</td>\n",
       "      <td>NaN</td>\n",
       "      <td>Y</td>\n",
       "      <td>12:00</td>\n",
       "      <td>...</td>\n",
       "      <td>PJ1029</td>\n",
       "      <td>80005443</td>\n",
       "      <td>11:45</td>\n",
       "      <td>02/05/2009</td>\n",
       "      <td>NaN</td>\n",
       "      <td>M</td>\n",
       "      <td>NaN</td>\n",
       "      <td>NaN</td>\n",
       "      <td>NaN</td>\n",
       "      <td>64106.0</td>\n",
       "    </tr>\n",
       "    <tr>\n",
       "      <th>2</th>\n",
       "      <td>100  WHEELING AV</td>\n",
       "      <td>22.0</td>\n",
       "      <td>EPD</td>\n",
       "      <td>315</td>\n",
       "      <td>KANSAS CITY</td>\n",
       "      <td>U</td>\n",
       "      <td>Possession/Sale/Dist</td>\n",
       "      <td>NaN</td>\n",
       "      <td>N</td>\n",
       "      <td>21:15</td>\n",
       "      <td>...</td>\n",
       "      <td>PJ0371</td>\n",
       "      <td>80019629</td>\n",
       "      <td>22:50</td>\n",
       "      <td>06/18/2009</td>\n",
       "      <td>NaN</td>\n",
       "      <td>M</td>\n",
       "      <td>NaN</td>\n",
       "      <td>NaN</td>\n",
       "      <td>NaN</td>\n",
       "      <td>64129.0</td>\n",
       "    </tr>\n",
       "    <tr>\n",
       "      <th>3</th>\n",
       "      <td>E 44 ST/INDIANA AV</td>\n",
       "      <td>NaN</td>\n",
       "      <td>EPD</td>\n",
       "      <td>334</td>\n",
       "      <td>KANSAS CITY</td>\n",
       "      <td>U</td>\n",
       "      <td>Stolen Property OFFE</td>\n",
       "      <td>NaN</td>\n",
       "      <td>N</td>\n",
       "      <td>18:44</td>\n",
       "      <td>...</td>\n",
       "      <td>PJ3525</td>\n",
       "      <td>70060962</td>\n",
       "      <td>18:44</td>\n",
       "      <td>01/28/2009</td>\n",
       "      <td>NaN</td>\n",
       "      <td>U</td>\n",
       "      <td>NaN</td>\n",
       "      <td>NaN</td>\n",
       "      <td>NaN</td>\n",
       "      <td>64130.0</td>\n",
       "    </tr>\n",
       "    <tr>\n",
       "      <th>4</th>\n",
       "      <td>1100  LOCUST ST</td>\n",
       "      <td>28.0</td>\n",
       "      <td>CPD</td>\n",
       "      <td>112</td>\n",
       "      <td>KANSAS CITY</td>\n",
       "      <td>U</td>\n",
       "      <td>Justifiable Homicide</td>\n",
       "      <td>NaN</td>\n",
       "      <td>Y</td>\n",
       "      <td>12:00</td>\n",
       "      <td>...</td>\n",
       "      <td>PJ1029</td>\n",
       "      <td>80005443</td>\n",
       "      <td>11:45</td>\n",
       "      <td>02/05/2009</td>\n",
       "      <td>NaN</td>\n",
       "      <td>M</td>\n",
       "      <td>NaN</td>\n",
       "      <td>NaN</td>\n",
       "      <td>NaN</td>\n",
       "      <td>64106.0</td>\n",
       "    </tr>\n",
       "  </tbody>\n",
       "</table>\n",
       "<p>5 rows × 31 columns</p>\n",
       "</div>"
      ],
      "text/plain": [
       "                 Address   Age Area Beat         City DVFlag  \\\n",
       "0  PROSPECT AV/VICTOR ST  28.0  EPD  333  KANSAS CITY      U   \n",
       "1        1100  LOCUST ST  27.0  CPD  112  KANSAS CITY      U   \n",
       "2       100  WHEELING AV  22.0  EPD  315  KANSAS CITY      U   \n",
       "3     E 44 ST/INDIANA AV   NaN  EPD  334  KANSAS CITY      U   \n",
       "4        1100  LOCUST ST  28.0  CPD  112  KANSAS CITY      U   \n",
       "\n",
       "            Description Firearm Used Flag Firearm Used Flag   From Time  \\\n",
       "0  Possession of Drug E               NaN                   N     22:56   \n",
       "1  Justifiable Homicide               NaN                   Y     12:00   \n",
       "2  Possession/Sale/Dist               NaN                   N     21:15   \n",
       "3  Stolen Property OFFE               NaN                   N     18:44   \n",
       "4  Justifiable Homicide               NaN                   Y     12:00   \n",
       "\n",
       "     ...    Rep_Dist Report_No Reported Time  Reported_Date Reported_Time  \\\n",
       "0    ...      PJ2327  70059279          3:24     10/06/2009           NaN   \n",
       "1    ...      PJ1029  80005443         11:45     02/05/2009           NaN   \n",
       "2    ...      PJ0371  80019629         22:50     06/18/2009           NaN   \n",
       "3    ...      PJ3525  70060962         18:44     01/28/2009           NaN   \n",
       "4    ...      PJ1029  80005443         11:45     02/05/2009           NaN   \n",
       "\n",
       "   Sex To Time                 To_Date  To_Time  Zip Code  \n",
       "0    F     NaN  10/05/2009 12:00:00 AM    23:10   64128.0  \n",
       "1    M     NaN                     NaN      NaN   64106.0  \n",
       "2    M     NaN                     NaN      NaN   64129.0  \n",
       "3    U     NaN                     NaN      NaN   64130.0  \n",
       "4    M     NaN                     NaN      NaN   64106.0  \n",
       "\n",
       "[5 rows x 31 columns]"
      ]
     },
     "execution_count": 3,
     "metadata": {},
     "output_type": "execute_result"
    }
   ],
   "source": [
    "path = r'C:\\DataAnalytics\\003_Project_Three\\Resources'\n",
    "all_files = glob.glob(os.path.join(path, '*.csv'))\n",
    "\n",
    "next_df = (pd.read_csv(f) for f in all_files)\n",
    "\n",
    "combined = pd.concat(next_df, ignore_index=True)\n",
    "combined.head()"
   ]
  },
  {
   "cell_type": "code",
   "execution_count": 4,
   "metadata": {},
   "outputs": [
    {
     "data": {
      "text/plain": [
       "(1160590, 31)"
      ]
     },
     "execution_count": 4,
     "metadata": {},
     "output_type": "execute_result"
    }
   ],
   "source": [
    "combined.shape"
   ]
  },
  {
   "cell_type": "code",
   "execution_count": 5,
   "metadata": {
    "collapsed": true
   },
   "outputs": [],
   "source": [
    "combined.rename(columns={'Zip Code':'zip_code'}, inplace=True)"
   ]
  },
  {
   "cell_type": "markdown",
   "metadata": {},
   "source": [
    "### Combine CSV Files"
   ]
  },
  {
   "cell_type": "code",
   "execution_count": 6,
   "metadata": {},
   "outputs": [],
   "source": [
    "combined_a = combined.drop(['Report_No', 'To_Date', 'From_Date', 'To_Time', 'From_Time',\n",
    "                          'Offense', 'IBRS', 'Rep_Dist', 'Area', 'Beat', 'DVFlag', 'Address'], axis=1)"
   ]
  },
  {
   "cell_type": "code",
   "execution_count": 7,
   "metadata": {},
   "outputs": [
    {
     "data": {
      "text/plain": [
       "(1160590, 19)"
      ]
     },
     "execution_count": 7,
     "metadata": {},
     "output_type": "execute_result"
    }
   ],
   "source": [
    "combined_a.shape"
   ]
  },
  {
   "cell_type": "code",
   "execution_count": 12,
   "metadata": {},
   "outputs": [],
   "source": [
    "# kc_crime_clean_zips = combined_a[combined_a.zip_code != 99999]\n",
    "# only_kc_crime = kc_crime_clean_zips[kc_crime_clean_zips.City.str.contains(\"KANSAS CITY\") == True]\n",
    "\n",
    "# victims = only_kc_crime[only_kc_crime.Involvement.str.contains(\"VIC\") == True]\n",
    "\n",
    "# victims_no_nans = victims[victims.Sex.str.contains(\"NaN\") == False]\n",
    "# male_female_victims_kcmo = victims_no_nans[victims_no_nans.Sex.str.contains(\"U\") == False]\n",
    "\n",
    "kc_crime_real_ages_V2 = male_female_victims_kcmo[male_female_victims_kcmo['Age'] < 91]"
   ]
  },
  {
   "cell_type": "code",
   "execution_count": 13,
   "metadata": {},
   "outputs": [
    {
     "data": {
      "text/plain": [
       "(355200, 19)"
      ]
     },
     "execution_count": 13,
     "metadata": {},
     "output_type": "execute_result"
    }
   ],
   "source": [
    "kc_crime_real_ages_V2.shape"
   ]
  },
  {
   "cell_type": "code",
   "execution_count": 14,
   "metadata": {},
   "outputs": [],
   "source": [
    "kc_crime_real_ages_V2.to_csv('kc_crime_for_visualizations_V2.csv', index=False)"
   ]
  },
  {
   "cell_type": "code",
   "execution_count": null,
   "metadata": {
    "collapsed": true
   },
   "outputs": [],
   "source": []
  },
  {
   "cell_type": "code",
   "execution_count": null,
   "metadata": {
    "collapsed": true
   },
   "outputs": [],
   "source": []
  },
  {
   "cell_type": "code",
   "execution_count": null,
   "metadata": {
    "collapsed": true
   },
   "outputs": [],
   "source": [
    "combined_csv = pd.concat( [ pd.read_csv(f) for f in filenames ] )"
   ]
  },
  {
   "cell_type": "code",
   "execution_count": null,
   "metadata": {
    "collapsed": true
   },
   "outputs": [],
   "source": [
    "combined_csv = pd.concat( [ pd.read_csv(c) for c in filenames ] )"
   ]
  },
  {
   "cell_type": "markdown",
   "metadata": {},
   "source": [
    "### Change time to datetime and extract hour"
   ]
  },
  {
   "cell_type": "code",
   "execution_count": null,
   "metadata": {
    "collapsed": true
   },
   "outputs": [],
   "source": [
    "kc_crime['Reported_Hour'] = pd.to_datetime(kc_crime['Reported_Time'])"
   ]
  },
  {
   "cell_type": "code",
   "execution_count": null,
   "metadata": {
    "collapsed": true
   },
   "outputs": [],
   "source": [
    "kc_crime[\"Reported_Hour\"] = kc_crime[\"Reported_Hour\"].dt.floor('h')"
   ]
  },
  {
   "cell_type": "code",
   "execution_count": null,
   "metadata": {
    "collapsed": true
   },
   "outputs": [],
   "source": [
    "kc_crime['Test'] = kc_crime['Reported_Hour'].dt.hour"
   ]
  },
  {
   "cell_type": "code",
   "execution_count": null,
   "metadata": {
    "collapsed": true
   },
   "outputs": [],
   "source": [
    "kc_crime.head()"
   ]
  },
  {
   "cell_type": "markdown",
   "metadata": {},
   "source": [
    "### Rename & drop columns"
   ]
  },
  {
   "cell_type": "code",
   "execution_count": null,
   "metadata": {
    "collapsed": true
   },
   "outputs": [],
   "source": [
    "kc_crime.rename(columns={'Zip Code':'zip_code'}, inplace=True)\n",
    "kc_crime_dropped_columns = kc_crime.drop(['Reported_Hour', 'Reported_Time', 'To_Date', 'From_Date', 'To_Time', 'From_Time',\n",
    "                          'Offense', 'IBRS', 'Rep_Dist', 'Area', 'Beat', 'Address'], axis=1)"
   ]
  },
  {
   "cell_type": "markdown",
   "metadata": {},
   "source": [
    "### Filter for male and female victims age 90 and under in KCMO"
   ]
  },
  {
   "cell_type": "code",
   "execution_count": null,
   "metadata": {
    "collapsed": true
   },
   "outputs": [],
   "source": [
    "kc_crime_clean_zips = kc_crime_dropped_columns[kc_crime_dropped_columns.zip_code != 99999]\n",
    "only_kc_crime = kc_crime_clean_zips[kc_crime_clean_zips.City.str.contains(\"KANSAS CITY\") == True]\n",
    "\n",
    "victims = only_kc_crime[only_kc_crime.Involvement.str.contains(\"VIC\") == True]\n",
    "\n",
    "victims_no_nans = victims[victims.Sex.str.contains(\"NaN\") == False]\n",
    "male_female_victims_kcmo = victims_no_nans[victims_no_nans.Sex.str.contains(\"U\") == False]\n",
    "\n",
    "kc_crime_real_ages = male_female_victims_kcmo[male_female_victims_kcmo['Age'] < 91]"
   ]
  },
  {
   "cell_type": "markdown",
   "metadata": {},
   "source": [
    "### Copy kc_crime_real_ages and separate \"Location\" into 3 columns"
   ]
  },
  {
   "cell_type": "code",
   "execution_count": null,
   "metadata": {
    "collapsed": true
   },
   "outputs": [],
   "source": [
    "kc_crime_real_ages_copy = kc_crime_real_ages.copy()\n",
    "kc_crime_real_ages_copy.head(1)"
   ]
  },
  {
   "cell_type": "markdown",
   "metadata": {},
   "source": [
    "# Split out geo data"
   ]
  },
  {
   "cell_type": "code",
   "execution_count": null,
   "metadata": {
    "collapsed": true
   },
   "outputs": [],
   "source": [
    "location_only = kc_crime_real_ages_copy['Location'].str[0:-1].str.split('\\n', expand=True)\n",
    "location_only.columns = (\"address\", \"city_zip\", \"geo\")\n",
    "location_only.head(1)"
   ]
  },
  {
   "cell_type": "markdown",
   "metadata": {},
   "source": [
    "### Parsing out latitude and longitude"
   ]
  },
  {
   "cell_type": "code",
   "execution_count": null,
   "metadata": {
    "collapsed": true
   },
   "outputs": [],
   "source": [
    "location_only['geo'] = location_only['geo'].str[1:]\n",
    "geo_split = location_only['geo'].str[0:].str.split(', ', expand=True)\n",
    "geo_split.columns = (\"Latitude\", \"Longitude\")\n",
    "geo_split.head(1)"
   ]
  },
  {
   "cell_type": "code",
   "execution_count": null,
   "metadata": {
    "collapsed": true
   },
   "outputs": [],
   "source": [
    "kc_crime_real_ages_copy.count()"
   ]
  },
  {
   "cell_type": "code",
   "execution_count": null,
   "metadata": {
    "collapsed": true
   },
   "outputs": [],
   "source": [
    "geo_split.count()"
   ]
  },
  {
   "cell_type": "code",
   "execution_count": null,
   "metadata": {
    "collapsed": true
   },
   "outputs": [],
   "source": [
    "kcmo_crime_with_nans = pd.concat([kc_crime_real_ages_copy, geo_split], axis=1)\n",
    "kcmo_crime_with_nans.head(1)"
   ]
  },
  {
   "cell_type": "code",
   "execution_count": null,
   "metadata": {
    "collapsed": true
   },
   "outputs": [],
   "source": [
    "kcmo_crime_with_nans.count()"
   ]
  },
  {
   "cell_type": "code",
   "execution_count": null,
   "metadata": {
    "collapsed": true
   },
   "outputs": [],
   "source": [
    "kcmo_crime_no_lat_nans = kcmo_crime_with_nans[kcmo_crime_with_nans.Latitude.str.contains(\"NaN\") == False]\n",
    "kcmo_crime_no_nans = kcmo_crime_no_lat_nans[kcmo_crime_no_lat_nans.Longitude.str.contains(\"NaN\") == False]\n",
    "kc_crime_close = kcmo_crime_no_nans.drop(['City', 'DVFlag', 'Invl_No', 'Involvement', 'Firearm Used Flag', 'Location'], axis=1)\n",
    "kc_crime_close.head(1)"
   ]
  },
  {
   "cell_type": "code",
   "execution_count": null,
   "metadata": {
    "collapsed": true
   },
   "outputs": [],
   "source": [
    "kc_crime_close.columns = (\"Report\", \"Date\", \"Crime\", \"Zip\", \"Race\", \"Sex\", \"Age\", \"Hour\", \"Latitude\", \"Longitude\")\n",
    "kc_crime_close = kc_crime_close.reset_index(drop=True)\n",
    "kc_crime_close.head()"
   ]
  },
  {
   "cell_type": "code",
   "execution_count": null,
   "metadata": {
    "collapsed": true
   },
   "outputs": [],
   "source": [
    "kc_crime_close.count()"
   ]
  },
  {
   "cell_type": "code",
   "execution_count": null,
   "metadata": {
    "collapsed": true
   },
   "outputs": [],
   "source": [
    "# plt.scatter(kc_crime_close.Age, kc_crime_close.Zip)\n",
    "# plt.show()"
   ]
  },
  {
   "cell_type": "code",
   "execution_count": null,
   "metadata": {
    "collapsed": true
   },
   "outputs": [],
   "source": [
    "# plt.scatter(kc_crime_close.Longitude, kc_crime_close.Latitude, c=kc_crime_close.Age, \n",
    "#            cmap='viridis_r', alpha = 0.8, s=2)\n",
    "# plt.colorbar()\n",
    "# plt.show()"
   ]
  },
  {
   "cell_type": "code",
   "execution_count": null,
   "metadata": {
    "collapsed": true
   },
   "outputs": [],
   "source": [
    "x_axis = np.arange(len(kc_crime_close['Crime']))\n",
    "tick_locations = [value+0.4 for value in x_axis]"
   ]
  },
  {
   "cell_type": "code",
   "execution_count": null,
   "metadata": {
    "collapsed": true
   },
   "outputs": [],
   "source": [
    "plt.figure(figsize=(20,3))\n",
    "plt.bar(kc_crime_close['Crime'], kc_crime_close[\"Age\"], color='r', alpha=0.5, align=\"edge\")\n",
    "plt.xticks(rotation=\"vertical\")"
   ]
  },
  {
   "cell_type": "code",
   "execution_count": null,
   "metadata": {
    "collapsed": true
   },
   "outputs": [],
   "source": [
    "# Set x and y limits\n",
    "plt.xlim(-0.25, len(x_axis))\n",
    "plt.ylim(0, max(kc_crime_close[\"Age\"])+5)"
   ]
  },
  {
   "cell_type": "code",
   "execution_count": null,
   "metadata": {
    "collapsed": true
   },
   "outputs": [],
   "source": [
    "# Set a Title and labels\n",
    "plt.title(\"Average Age Crime of Victims\")\n",
    "plt.xlabel(\"Crime\")\n",
    "plt.ylabel(\"Age\")"
   ]
  },
  {
   "cell_type": "code",
   "execution_count": null,
   "metadata": {
    "collapsed": true
   },
   "outputs": [],
   "source": [
    "# plt.tight_layout()\n",
    "# plt.savefig(\"avg_state_rain.png\")\n",
    "plt.show()"
   ]
  },
  {
   "cell_type": "markdown",
   "metadata": {},
   "source": [
    "### Confirming Clean Data in Excel"
   ]
  },
  {
   "cell_type": "code",
   "execution_count": null,
   "metadata": {
    "collapsed": true
   },
   "outputs": [],
   "source": [
    "# kc_crime_close.to_csv('kc_crime_close.csv', index=False)"
   ]
  },
  {
   "cell_type": "markdown",
   "metadata": {},
   "source": [
    "# Confirm above data is good before proceeding"
   ]
  },
  {
   "cell_type": "markdown",
   "metadata": {},
   "source": [
    "### Apply get_dummies function"
   ]
  },
  {
   "cell_type": "code",
   "execution_count": null,
   "metadata": {
    "collapsed": true
   },
   "outputs": [],
   "source": [
    "crime_columns = pd.get_dummies(kc_crime_close['Crime'],prefix = \"Crime\")\n",
    "kc_crime_close = pd.concat([kc_crime_close, crime_columns], axis=1)\n",
    "kc_crime_close.drop('Crime', axis=1, inplace=True)\n",
    "zip_columns = pd.get_dummies(kc_crime_close['Zip'],prefix = \"Zip\")\n",
    "kc_crime_close = pd.concat([kc_crime_close, zip_columns], axis=1)\n",
    "kc_crime_close.drop('Zip', axis=1, inplace=True)\n",
    "race_columns = pd.get_dummies(kc_crime_close['Race'],prefix = \"Race\")\n",
    "kc_crime_close = pd.concat([kc_crime_close, race_columns], axis=1)\n",
    "kc_crime_close.drop('Race', axis=1, inplace=True)\n",
    "sex_columns = pd.get_dummies(kc_crime_close['Sex'],prefix = \"Sex\")\n",
    "kc_crime_close = pd.concat([kc_crime_close, sex_columns], axis=1)\n",
    "kc_crime_close.drop('Sex', axis=1, inplace=True)\n",
    "age_columns = pd.get_dummies(kc_crime_close['Age'],prefix = \"Age\")\n",
    "kc_crime_close = pd.concat([kc_crime_close, age_columns], axis=1)\n",
    "kc_crime_close.drop('Age', axis=1, inplace=True)\n",
    "date_columns = pd.get_dummies(kc_crime_close['Date'],prefix = \"Date\")\n",
    "kc_crime_close = pd.concat([kc_crime_close, date_columns], axis=1)\n",
    "kc_crime_close.drop('Date', axis=1, inplace=True)\n",
    "hour_columns = pd.get_dummies(kc_crime_close['Hour'],prefix = \"Hour\")\n",
    "kc_crime_close = pd.concat([kc_crime_close, hour_columns], axis=1)\n",
    "kc_crime_close.drop('Hour', axis=1, inplace=True)"
   ]
  },
  {
   "cell_type": "code",
   "execution_count": null,
   "metadata": {
    "collapsed": true
   },
   "outputs": [],
   "source": [
    "kc_crime_close.head()"
   ]
  },
  {
   "cell_type": "code",
   "execution_count": null,
   "metadata": {
    "collapsed": true
   },
   "outputs": [],
   "source": []
  }
 ],
 "metadata": {
  "kernelspec": {
   "display_name": "Python 3",
   "language": "python",
   "name": "python3"
  },
  "language_info": {
   "codemirror_mode": {
    "name": "ipython",
    "version": 3
   },
   "file_extension": ".py",
   "mimetype": "text/x-python",
   "name": "python",
   "nbconvert_exporter": "python",
   "pygments_lexer": "ipython3",
   "version": "3.6.3"
  }
 },
 "nbformat": 4,
 "nbformat_minor": 2
}
