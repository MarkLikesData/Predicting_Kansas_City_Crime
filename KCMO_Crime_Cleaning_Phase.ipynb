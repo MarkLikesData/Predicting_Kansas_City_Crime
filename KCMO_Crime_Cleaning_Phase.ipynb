{
 "cells": [
  {
   "cell_type": "markdown",
   "metadata": {},
   "source": [
    "# Machine Learning Project\n",
    "# Kansas City Crime Data Deep Dive"
   ]
  },
  {
   "cell_type": "markdown",
   "metadata": {},
   "source": [
    "### Import Dependancies"
   ]
  },
  {
   "cell_type": "code",
   "execution_count": 1,
   "metadata": {
    "collapsed": true
   },
   "outputs": [],
   "source": [
    "import warnings\n",
    "warnings.simplefilter('ignore')\n",
    "\n",
    "# %matplotlib inline\n",
    "import matplotlib.pyplot as plt\n",
    "import numpy as np\n",
    "import pandas as pd\n",
    "import os"
   ]
  },
  {
   "cell_type": "markdown",
   "metadata": {},
   "source": [
    "### Getting our KCMO crime data (Raw data came from data.kcmo.org)"
   ]
  },
  {
   "cell_type": "code",
   "execution_count": 2,
   "metadata": {},
   "outputs": [
    {
     "data": {
      "text/html": [
       "<div>\n",
       "<style>\n",
       "    .dataframe thead tr:only-child th {\n",
       "        text-align: right;\n",
       "    }\n",
       "\n",
       "    .dataframe thead th {\n",
       "        text-align: left;\n",
       "    }\n",
       "\n",
       "    .dataframe tbody tr th {\n",
       "        vertical-align: top;\n",
       "    }\n",
       "</style>\n",
       "<table border=\"1\" class=\"dataframe\">\n",
       "  <thead>\n",
       "    <tr style=\"text-align: right;\">\n",
       "      <th></th>\n",
       "      <th>Report_No</th>\n",
       "      <th>Reported_Date</th>\n",
       "      <th>Reported_Time</th>\n",
       "      <th>From_Date</th>\n",
       "      <th>From_Time</th>\n",
       "      <th>To_Date</th>\n",
       "      <th>To_Time</th>\n",
       "      <th>Offense</th>\n",
       "      <th>IBRS</th>\n",
       "      <th>Description</th>\n",
       "      <th>...</th>\n",
       "      <th>Rep_Dist</th>\n",
       "      <th>Area</th>\n",
       "      <th>DVFlag</th>\n",
       "      <th>Invl_No</th>\n",
       "      <th>Involvement</th>\n",
       "      <th>Race</th>\n",
       "      <th>Sex</th>\n",
       "      <th>Age</th>\n",
       "      <th>Firearm Used Flag</th>\n",
       "      <th>Location</th>\n",
       "    </tr>\n",
       "  </thead>\n",
       "  <tbody>\n",
       "    <tr>\n",
       "      <th>0</th>\n",
       "      <td>100080848</td>\n",
       "      <td>5/28/2017</td>\n",
       "      <td>3:44</td>\n",
       "      <td>5/28/2017</td>\n",
       "      <td>2:00</td>\n",
       "      <td>NaN</td>\n",
       "      <td>NaN</td>\n",
       "      <td>1352</td>\n",
       "      <td>280</td>\n",
       "      <td>Stolen Property OFFE</td>\n",
       "      <td>...</td>\n",
       "      <td>PJ3255</td>\n",
       "      <td>CPD</td>\n",
       "      <td>U</td>\n",
       "      <td>1</td>\n",
       "      <td>VIC</td>\n",
       "      <td>W</td>\n",
       "      <td>F</td>\n",
       "      <td>29.0</td>\n",
       "      <td>N</td>\n",
       "      <td>4000 MILL ST\\nKANSAS CITY 64111\\n(39.053635, -...</td>\n",
       "    </tr>\n",
       "    <tr>\n",
       "      <th>1</th>\n",
       "      <td>120046817</td>\n",
       "      <td>11/21/2017</td>\n",
       "      <td>13:30</td>\n",
       "      <td>11/20/2017</td>\n",
       "      <td>9:00</td>\n",
       "      <td>NaN</td>\n",
       "      <td>NaN</td>\n",
       "      <td>101</td>\n",
       "      <td>09A</td>\n",
       "      <td>HOMICIDE/Non Neglige</td>\n",
       "      <td>...</td>\n",
       "      <td>PJ1029</td>\n",
       "      <td>CPD</td>\n",
       "      <td>U</td>\n",
       "      <td>1</td>\n",
       "      <td>SUS</td>\n",
       "      <td>B</td>\n",
       "      <td>M</td>\n",
       "      <td>NaN</td>\n",
       "      <td>Y</td>\n",
       "      <td>1100 LOCUST ST\\nKANSAS CITY 64105\\n(39.10091, ...</td>\n",
       "    </tr>\n",
       "  </tbody>\n",
       "</table>\n",
       "<p>2 rows × 24 columns</p>\n",
       "</div>"
      ],
      "text/plain": [
       "   Report_No Reported_Date Reported_Time   From_Date From_Time To_Date  \\\n",
       "0  100080848     5/28/2017          3:44   5/28/2017      2:00     NaN   \n",
       "1  120046817    11/21/2017         13:30  11/20/2017      9:00     NaN   \n",
       "\n",
       "  To_Time  Offense IBRS           Description  \\\n",
       "0     NaN     1352  280  Stolen Property OFFE   \n",
       "1     NaN      101  09A  HOMICIDE/Non Neglige   \n",
       "\n",
       "                         ...                          Rep_Dist Area DVFlag  \\\n",
       "0                        ...                            PJ3255  CPD      U   \n",
       "1                        ...                            PJ1029  CPD      U   \n",
       "\n",
       "   Invl_No Involvement Race Sex   Age Firearm Used Flag  \\\n",
       "0        1         VIC    W   F  29.0                 N   \n",
       "1        1         SUS    B   M   NaN                 Y   \n",
       "\n",
       "                                            Location  \n",
       "0  4000 MILL ST\\nKANSAS CITY 64111\\n(39.053635, -...  \n",
       "1  1100 LOCUST ST\\nKANSAS CITY 64105\\n(39.10091, ...  \n",
       "\n",
       "[2 rows x 24 columns]"
      ]
     },
     "execution_count": 2,
     "metadata": {},
     "output_type": "execute_result"
    }
   ],
   "source": [
    "file_name = os.path.join('Resources', 'KCPD_Crime_Data_2017.csv')\n",
    "kc_crime = pd.read_csv(file_name)\n",
    "kc_crime.reset_index()\n",
    "kc_crime.head(2)"
   ]
  },
  {
   "cell_type": "markdown",
   "metadata": {},
   "source": [
    "### Filter for male and female victims in KCMO\n",
    "# Fix Zip Code naming convention"
   ]
  },
  {
   "cell_type": "code",
   "execution_count": 3,
   "metadata": {},
   "outputs": [],
   "source": [
    "kc_crime1 = kc_crime[kc_crime.City.str.contains(\"KANSAS CITY\") == True]\n",
    "kc_crime2 = kc_crime1[kc_crime1.Involvement.str.contains(\"VIC\") == True]\n",
    "kc_crime3 = kc_crime2[kc_crime2.Sex.str.contains(\"NaN\") == False]\n",
    "kc_crime4 = kc_crime3[kc_crime3.Sex.str.contains(\"U\") == False]\n",
    "# kc_crime4b = kc_crime4[kc_crime4.Zip_Code.str.contains(\"99999\") == False]"
   ]
  },
  {
   "cell_type": "markdown",
   "metadata": {},
   "source": [
    "### Drop unnecessary columns"
   ]
  },
  {
   "cell_type": "code",
   "execution_count": 5,
   "metadata": {},
   "outputs": [],
   "source": [
    "kc_crime5 = kc_crime4.drop(['To_Date', 'From_Date', 'To_Time', 'From_Time',\n",
    "                          'Offense', 'IBRS', 'Rep_Dist', 'Area', 'Beat' ], axis=1)"
   ]
  },
  {
   "cell_type": "markdown",
   "metadata": {},
   "source": [
    "### Remove abnormal age values"
   ]
  },
  {
   "cell_type": "code",
   "execution_count": 6,
   "metadata": {
    "collapsed": true
   },
   "outputs": [],
   "source": [
    "kc_crime6 = kc_crime5[kc_crime5['Age'] < 91]  "
   ]
  },
  {
   "cell_type": "code",
   "execution_count": 7,
   "metadata": {},
   "outputs": [
    {
     "data": {
      "text/plain": [
       "Report_No            43908\n",
       "Reported_Date        43908\n",
       "Reported_Time        43908\n",
       "Description          43908\n",
       "Address              43908\n",
       "City                 43908\n",
       "Zip Code             43908\n",
       "DVFlag               43908\n",
       "Invl_No              43908\n",
       "Involvement          43908\n",
       "Race                 43908\n",
       "Sex                  43908\n",
       "Age                  43908\n",
       "Firearm Used Flag    43908\n",
       "Location             43908\n",
       "dtype: int64"
      ]
     },
     "execution_count": 7,
     "metadata": {},
     "output_type": "execute_result"
    }
   ],
   "source": [
    "kc_crime6.count()"
   ]
  },
  {
   "cell_type": "markdown",
   "metadata": {},
   "source": [
    "### Parse out latitude and longitude"
   ]
  },
  {
   "cell_type": "code",
   "execution_count": 8,
   "metadata": {
    "collapsed": true
   },
   "outputs": [],
   "source": [
    "kc_crime6_copy = kc_crime6.copy()"
   ]
  },
  {
   "cell_type": "code",
   "execution_count": 9,
   "metadata": {
    "collapsed": true
   },
   "outputs": [],
   "source": [
    "#copy the dataframe to a work df\n",
    "# acc_drugtemp_df = acc_drug_deaths_df.copy()"
   ]
  },
  {
   "cell_type": "code",
   "execution_count": 10,
   "metadata": {},
   "outputs": [
    {
     "data": {
      "text/html": [
       "<div>\n",
       "<style>\n",
       "    .dataframe thead tr:only-child th {\n",
       "        text-align: right;\n",
       "    }\n",
       "\n",
       "    .dataframe thead th {\n",
       "        text-align: left;\n",
       "    }\n",
       "\n",
       "    .dataframe tbody tr th {\n",
       "        vertical-align: top;\n",
       "    }\n",
       "</style>\n",
       "<table border=\"1\" class=\"dataframe\">\n",
       "  <thead>\n",
       "    <tr style=\"text-align: right;\">\n",
       "      <th></th>\n",
       "      <th>Report_No</th>\n",
       "      <th>Reported_Date</th>\n",
       "      <th>Reported_Time</th>\n",
       "      <th>Description</th>\n",
       "      <th>Address</th>\n",
       "      <th>City</th>\n",
       "      <th>Zip Code</th>\n",
       "      <th>DVFlag</th>\n",
       "      <th>Invl_No</th>\n",
       "      <th>Involvement</th>\n",
       "      <th>Race</th>\n",
       "      <th>Sex</th>\n",
       "      <th>Age</th>\n",
       "      <th>Firearm Used Flag</th>\n",
       "      <th>Location</th>\n",
       "    </tr>\n",
       "  </thead>\n",
       "  <tbody>\n",
       "    <tr>\n",
       "      <th>0</th>\n",
       "      <td>100080848</td>\n",
       "      <td>5/28/2017</td>\n",
       "      <td>3:44</td>\n",
       "      <td>Stolen Property OFFE</td>\n",
       "      <td>4000  MILL ST</td>\n",
       "      <td>KANSAS CITY</td>\n",
       "      <td>64111</td>\n",
       "      <td>U</td>\n",
       "      <td>1</td>\n",
       "      <td>VIC</td>\n",
       "      <td>W</td>\n",
       "      <td>F</td>\n",
       "      <td>29.0</td>\n",
       "      <td>N</td>\n",
       "      <td>4000 MILL ST\\nKANSAS CITY 64111\\n(39.053635, -...</td>\n",
       "    </tr>\n",
       "    <tr>\n",
       "      <th>2</th>\n",
       "      <td>120046817</td>\n",
       "      <td>11/21/2017</td>\n",
       "      <td>13:30</td>\n",
       "      <td>HOMICIDE/Non Neglige</td>\n",
       "      <td>1100  LOCUST ST</td>\n",
       "      <td>KANSAS CITY</td>\n",
       "      <td>64105</td>\n",
       "      <td>N</td>\n",
       "      <td>1</td>\n",
       "      <td>VIC</td>\n",
       "      <td>B</td>\n",
       "      <td>F</td>\n",
       "      <td>69.0</td>\n",
       "      <td>Y</td>\n",
       "      <td>1100 LOCUST ST\\nKANSAS CITY 64105\\n(39.10091, ...</td>\n",
       "    </tr>\n",
       "  </tbody>\n",
       "</table>\n",
       "</div>"
      ],
      "text/plain": [
       "   Report_No Reported_Date Reported_Time           Description  \\\n",
       "0  100080848     5/28/2017          3:44  Stolen Property OFFE   \n",
       "2  120046817    11/21/2017         13:30  HOMICIDE/Non Neglige   \n",
       "\n",
       "           Address         City  Zip Code DVFlag  Invl_No Involvement Race  \\\n",
       "0    4000  MILL ST  KANSAS CITY     64111      U        1         VIC    W   \n",
       "2  1100  LOCUST ST  KANSAS CITY     64105      N        1         VIC    B   \n",
       "\n",
       "  Sex   Age Firearm Used Flag  \\\n",
       "0   F  29.0                 N   \n",
       "2   F  69.0                 Y   \n",
       "\n",
       "                                            Location  \n",
       "0  4000 MILL ST\\nKANSAS CITY 64111\\n(39.053635, -...  \n",
       "2  1100 LOCUST ST\\nKANSAS CITY 64105\\n(39.10091, ...  "
      ]
     },
     "execution_count": 10,
     "metadata": {},
     "output_type": "execute_result"
    }
   ],
   "source": [
    "kc_crime6_copy.head(2)"
   ]
  },
  {
   "cell_type": "code",
   "execution_count": 11,
   "metadata": {
    "collapsed": true
   },
   "outputs": [],
   "source": [
    "#split the DeathLoc column into two columns \n",
    "# acc_drugtemp3_df = acc_drugtemp_df['DeathLoc'].str[2:-1].str.split('\\n', expand=True)"
   ]
  },
  {
   "cell_type": "code",
   "execution_count": 12,
   "metadata": {
    "collapsed": true
   },
   "outputs": [],
   "source": [
    "kc_crime7 = kc_crime6_copy['Location'].str[2:-1].str.split('\\n', expand=True)"
   ]
  },
  {
   "cell_type": "code",
   "execution_count": 13,
   "metadata": {},
   "outputs": [
    {
     "data": {
      "text/html": [
       "<div>\n",
       "<style>\n",
       "    .dataframe thead tr:only-child th {\n",
       "        text-align: right;\n",
       "    }\n",
       "\n",
       "    .dataframe thead th {\n",
       "        text-align: left;\n",
       "    }\n",
       "\n",
       "    .dataframe tbody tr th {\n",
       "        vertical-align: top;\n",
       "    }\n",
       "</style>\n",
       "<table border=\"1\" class=\"dataframe\">\n",
       "  <thead>\n",
       "    <tr style=\"text-align: right;\">\n",
       "      <th></th>\n",
       "      <th>0</th>\n",
       "      <th>1</th>\n",
       "      <th>2</th>\n",
       "    </tr>\n",
       "  </thead>\n",
       "  <tbody>\n",
       "    <tr>\n",
       "      <th>0</th>\n",
       "      <td>00 MILL ST</td>\n",
       "      <td>KANSAS CITY 64111</td>\n",
       "      <td>(39.053635, -94.595998</td>\n",
       "    </tr>\n",
       "    <tr>\n",
       "      <th>2</th>\n",
       "      <td>00 LOCUST ST</td>\n",
       "      <td>KANSAS CITY 64105</td>\n",
       "      <td>(39.10091, -94.577328</td>\n",
       "    </tr>\n",
       "  </tbody>\n",
       "</table>\n",
       "</div>"
      ],
      "text/plain": [
       "              0                  1                       2\n",
       "0    00 MILL ST  KANSAS CITY 64111  (39.053635, -94.595998\n",
       "2  00 LOCUST ST  KANSAS CITY 64105   (39.10091, -94.577328"
      ]
     },
     "execution_count": 13,
     "metadata": {},
     "output_type": "execute_result"
    }
   ],
   "source": [
    "kc_crime7.head(2)"
   ]
  },
  {
   "cell_type": "code",
   "execution_count": 14,
   "metadata": {},
   "outputs": [
    {
     "data": {
      "text/plain": [
       "'(39.053635, -94.595998'"
      ]
     },
     "execution_count": 14,
     "metadata": {},
     "output_type": "execute_result"
    }
   ],
   "source": [
    "test = kc_crime7[2][0]\n",
    "test"
   ]
  },
  {
   "cell_type": "code",
   "execution_count": 15,
   "metadata": {
    "collapsed": true
   },
   "outputs": [],
   "source": [
    "#create a column called geo getting rid of the left (\n",
    "# acc_drugtemp3_df['Geo'] = acc_drugtemp3_df[1][1][1:-1]\n",
    "kc_crime7['Geo'] = kc_crime7[2][0:][0:]"
   ]
  },
  {
   "cell_type": "code",
   "execution_count": 16,
   "metadata": {},
   "outputs": [
    {
     "data": {
      "text/html": [
       "<div>\n",
       "<style>\n",
       "    .dataframe thead tr:only-child th {\n",
       "        text-align: right;\n",
       "    }\n",
       "\n",
       "    .dataframe thead th {\n",
       "        text-align: left;\n",
       "    }\n",
       "\n",
       "    .dataframe tbody tr th {\n",
       "        vertical-align: top;\n",
       "    }\n",
       "</style>\n",
       "<table border=\"1\" class=\"dataframe\">\n",
       "  <thead>\n",
       "    <tr style=\"text-align: right;\">\n",
       "      <th></th>\n",
       "      <th>0</th>\n",
       "      <th>1</th>\n",
       "      <th>2</th>\n",
       "      <th>Geo</th>\n",
       "    </tr>\n",
       "  </thead>\n",
       "  <tbody>\n",
       "    <tr>\n",
       "      <th>0</th>\n",
       "      <td>00 MILL ST</td>\n",
       "      <td>KANSAS CITY 64111</td>\n",
       "      <td>(39.053635, -94.595998</td>\n",
       "      <td>(39.053635, -94.595998</td>\n",
       "    </tr>\n",
       "    <tr>\n",
       "      <th>2</th>\n",
       "      <td>00 LOCUST ST</td>\n",
       "      <td>KANSAS CITY 64105</td>\n",
       "      <td>(39.10091, -94.577328</td>\n",
       "      <td>(39.10091, -94.577328</td>\n",
       "    </tr>\n",
       "  </tbody>\n",
       "</table>\n",
       "</div>"
      ],
      "text/plain": [
       "              0                  1                       2  \\\n",
       "0    00 MILL ST  KANSAS CITY 64111  (39.053635, -94.595998   \n",
       "2  00 LOCUST ST  KANSAS CITY 64105   (39.10091, -94.577328   \n",
       "\n",
       "                      Geo  \n",
       "0  (39.053635, -94.595998  \n",
       "2   (39.10091, -94.577328  "
      ]
     },
     "execution_count": 16,
     "metadata": {},
     "output_type": "execute_result"
    }
   ],
   "source": [
    "kc_crime7.head(2)"
   ]
  },
  {
   "cell_type": "code",
   "execution_count": 17,
   "metadata": {
    "collapsed": true
   },
   "outputs": [],
   "source": [
    "kc_crime7['Geo'] = kc_crime7['Geo'].str[1:]"
   ]
  },
  {
   "cell_type": "code",
   "execution_count": 18,
   "metadata": {
    "scrolled": true
   },
   "outputs": [
    {
     "data": {
      "text/html": [
       "<div>\n",
       "<style>\n",
       "    .dataframe thead tr:only-child th {\n",
       "        text-align: right;\n",
       "    }\n",
       "\n",
       "    .dataframe thead th {\n",
       "        text-align: left;\n",
       "    }\n",
       "\n",
       "    .dataframe tbody tr th {\n",
       "        vertical-align: top;\n",
       "    }\n",
       "</style>\n",
       "<table border=\"1\" class=\"dataframe\">\n",
       "  <thead>\n",
       "    <tr style=\"text-align: right;\">\n",
       "      <th></th>\n",
       "      <th>0</th>\n",
       "      <th>1</th>\n",
       "      <th>2</th>\n",
       "      <th>Geo</th>\n",
       "    </tr>\n",
       "  </thead>\n",
       "  <tbody>\n",
       "    <tr>\n",
       "      <th>0</th>\n",
       "      <td>00 MILL ST</td>\n",
       "      <td>KANSAS CITY 64111</td>\n",
       "      <td>(39.053635, -94.595998</td>\n",
       "      <td>39.053635, -94.595998</td>\n",
       "    </tr>\n",
       "    <tr>\n",
       "      <th>2</th>\n",
       "      <td>00 LOCUST ST</td>\n",
       "      <td>KANSAS CITY 64105</td>\n",
       "      <td>(39.10091, -94.577328</td>\n",
       "      <td>39.10091, -94.577328</td>\n",
       "    </tr>\n",
       "  </tbody>\n",
       "</table>\n",
       "</div>"
      ],
      "text/plain": [
       "              0                  1                       2  \\\n",
       "0    00 MILL ST  KANSAS CITY 64111  (39.053635, -94.595998   \n",
       "2  00 LOCUST ST  KANSAS CITY 64105   (39.10091, -94.577328   \n",
       "\n",
       "                     Geo  \n",
       "0  39.053635, -94.595998  \n",
       "2   39.10091, -94.577328  "
      ]
     },
     "execution_count": 18,
     "metadata": {},
     "output_type": "execute_result"
    }
   ],
   "source": [
    "kc_crime7.head(2)"
   ]
  },
  {
   "cell_type": "code",
   "execution_count": 19,
   "metadata": {},
   "outputs": [
    {
     "data": {
      "text/html": [
       "<div>\n",
       "<style>\n",
       "    .dataframe thead tr:only-child th {\n",
       "        text-align: right;\n",
       "    }\n",
       "\n",
       "    .dataframe thead th {\n",
       "        text-align: left;\n",
       "    }\n",
       "\n",
       "    .dataframe tbody tr th {\n",
       "        vertical-align: top;\n",
       "    }\n",
       "</style>\n",
       "<table border=\"1\" class=\"dataframe\">\n",
       "  <thead>\n",
       "    <tr style=\"text-align: right;\">\n",
       "      <th></th>\n",
       "      <th>0</th>\n",
       "      <th>1</th>\n",
       "    </tr>\n",
       "  </thead>\n",
       "  <tbody>\n",
       "    <tr>\n",
       "      <th>0</th>\n",
       "      <td>39.053635</td>\n",
       "      <td>-94.595998</td>\n",
       "    </tr>\n",
       "    <tr>\n",
       "      <th>2</th>\n",
       "      <td>39.10091</td>\n",
       "      <td>-94.577328</td>\n",
       "    </tr>\n",
       "  </tbody>\n",
       "</table>\n",
       "</div>"
      ],
      "text/plain": [
       "           0            1\n",
       "0  39.053635   -94.595998\n",
       "2   39.10091   -94.577328"
      ]
     },
     "execution_count": 19,
     "metadata": {},
     "output_type": "execute_result"
    }
   ],
   "source": [
    "kc_crime8 = kc_crime7['Geo'].str[0:].str.split(',', expand=True)\n",
    "kc_crime8.head(2)"
   ]
  },
  {
   "cell_type": "code",
   "execution_count": 20,
   "metadata": {},
   "outputs": [
    {
     "data": {
      "text/html": [
       "<div>\n",
       "<style>\n",
       "    .dataframe thead tr:only-child th {\n",
       "        text-align: right;\n",
       "    }\n",
       "\n",
       "    .dataframe thead th {\n",
       "        text-align: left;\n",
       "    }\n",
       "\n",
       "    .dataframe tbody tr th {\n",
       "        vertical-align: top;\n",
       "    }\n",
       "</style>\n",
       "<table border=\"1\" class=\"dataframe\">\n",
       "  <thead>\n",
       "    <tr style=\"text-align: right;\">\n",
       "      <th></th>\n",
       "      <th>Lat</th>\n",
       "      <th>Lon</th>\n",
       "    </tr>\n",
       "  </thead>\n",
       "  <tbody>\n",
       "    <tr>\n",
       "      <th>0</th>\n",
       "      <td>39.053635</td>\n",
       "      <td>-94.595998</td>\n",
       "    </tr>\n",
       "    <tr>\n",
       "      <th>2</th>\n",
       "      <td>39.10091</td>\n",
       "      <td>-94.577328</td>\n",
       "    </tr>\n",
       "    <tr>\n",
       "      <th>33</th>\n",
       "      <td>39.17744</td>\n",
       "      <td>-94.572069</td>\n",
       "    </tr>\n",
       "    <tr>\n",
       "      <th>36</th>\n",
       "      <td>39.033505</td>\n",
       "      <td>-94.547812</td>\n",
       "    </tr>\n",
       "    <tr>\n",
       "      <th>46</th>\n",
       "      <td>None</td>\n",
       "      <td>None</td>\n",
       "    </tr>\n",
       "  </tbody>\n",
       "</table>\n",
       "</div>"
      ],
      "text/plain": [
       "          Lat          Lon\n",
       "0   39.053635   -94.595998\n",
       "2    39.10091   -94.577328\n",
       "33   39.17744   -94.572069\n",
       "36  39.033505   -94.547812\n",
       "46       None         None"
      ]
     },
     "execution_count": 20,
     "metadata": {},
     "output_type": "execute_result"
    }
   ],
   "source": [
    "kc_crime8['Lat'] = kc_crime8[0]\n",
    "kc_crime8['Lon'] = kc_crime8[1]\n",
    "kc_crime8 = kc_crime8.drop([0], axis=1)\n",
    "kc_crime8 = kc_crime8.drop([1], axis=1)\n",
    "kc_crime8.head()"
   ]
  },
  {
   "cell_type": "code",
   "execution_count": 21,
   "metadata": {
    "collapsed": true
   },
   "outputs": [],
   "source": [
    "kc_crime9 = kc_crime6.append(kc_crime8, ignore_index=True)"
   ]
  },
  {
   "cell_type": "code",
   "execution_count": 23,
   "metadata": {},
   "outputs": [
    {
     "data": {
      "text/html": [
       "<div>\n",
       "<style>\n",
       "    .dataframe thead tr:only-child th {\n",
       "        text-align: right;\n",
       "    }\n",
       "\n",
       "    .dataframe thead th {\n",
       "        text-align: left;\n",
       "    }\n",
       "\n",
       "    .dataframe tbody tr th {\n",
       "        vertical-align: top;\n",
       "    }\n",
       "</style>\n",
       "<table border=\"1\" class=\"dataframe\">\n",
       "  <thead>\n",
       "    <tr style=\"text-align: right;\">\n",
       "      <th></th>\n",
       "      <th>Address</th>\n",
       "      <th>Age</th>\n",
       "      <th>City</th>\n",
       "      <th>DVFlag</th>\n",
       "      <th>Description</th>\n",
       "      <th>Firearm Used Flag</th>\n",
       "      <th>Invl_No</th>\n",
       "      <th>Involvement</th>\n",
       "      <th>Lat</th>\n",
       "      <th>Location</th>\n",
       "      <th>Lon</th>\n",
       "      <th>Race</th>\n",
       "      <th>Report_No</th>\n",
       "      <th>Reported_Date</th>\n",
       "      <th>Reported_Time</th>\n",
       "      <th>Sex</th>\n",
       "      <th>Zip Code</th>\n",
       "    </tr>\n",
       "  </thead>\n",
       "  <tbody>\n",
       "    <tr>\n",
       "      <th>0</th>\n",
       "      <td>4000  MILL ST</td>\n",
       "      <td>29.0</td>\n",
       "      <td>KANSAS CITY</td>\n",
       "      <td>U</td>\n",
       "      <td>Stolen Property OFFE</td>\n",
       "      <td>N</td>\n",
       "      <td>1.0</td>\n",
       "      <td>VIC</td>\n",
       "      <td>NaN</td>\n",
       "      <td>4000 MILL ST\\nKANSAS CITY 64111\\n(39.053635, -...</td>\n",
       "      <td>NaN</td>\n",
       "      <td>W</td>\n",
       "      <td>100080848.0</td>\n",
       "      <td>5/28/2017</td>\n",
       "      <td>3:44</td>\n",
       "      <td>F</td>\n",
       "      <td>64111.0</td>\n",
       "    </tr>\n",
       "    <tr>\n",
       "      <th>1</th>\n",
       "      <td>1100  LOCUST ST</td>\n",
       "      <td>69.0</td>\n",
       "      <td>KANSAS CITY</td>\n",
       "      <td>N</td>\n",
       "      <td>HOMICIDE/Non Neglige</td>\n",
       "      <td>Y</td>\n",
       "      <td>1.0</td>\n",
       "      <td>VIC</td>\n",
       "      <td>NaN</td>\n",
       "      <td>1100 LOCUST ST\\nKANSAS CITY 64105\\n(39.10091, ...</td>\n",
       "      <td>NaN</td>\n",
       "      <td>B</td>\n",
       "      <td>120046817.0</td>\n",
       "      <td>11/21/2017</td>\n",
       "      <td>13:30</td>\n",
       "      <td>F</td>\n",
       "      <td>64105.0</td>\n",
       "    </tr>\n",
       "  </tbody>\n",
       "</table>\n",
       "</div>"
      ],
      "text/plain": [
       "           Address   Age         City DVFlag           Description  \\\n",
       "0    4000  MILL ST  29.0  KANSAS CITY      U  Stolen Property OFFE   \n",
       "1  1100  LOCUST ST  69.0  KANSAS CITY      N  HOMICIDE/Non Neglige   \n",
       "\n",
       "  Firearm Used Flag  Invl_No Involvement  Lat  \\\n",
       "0                 N      1.0         VIC  NaN   \n",
       "1                 Y      1.0         VIC  NaN   \n",
       "\n",
       "                                            Location  Lon Race    Report_No  \\\n",
       "0  4000 MILL ST\\nKANSAS CITY 64111\\n(39.053635, -...  NaN    W  100080848.0   \n",
       "1  1100 LOCUST ST\\nKANSAS CITY 64105\\n(39.10091, ...  NaN    B  120046817.0   \n",
       "\n",
       "  Reported_Date Reported_Time Sex  Zip Code  \n",
       "0     5/28/2017          3:44   F   64111.0  \n",
       "1    11/21/2017         13:30   F   64105.0  "
      ]
     },
     "execution_count": 23,
     "metadata": {},
     "output_type": "execute_result"
    }
   ],
   "source": [
    "kc_crime9.head(2)"
   ]
  },
  {
   "cell_type": "code",
   "execution_count": 36,
   "metadata": {},
   "outputs": [
    {
     "data": {
      "text/plain": [
       "'39.053635'"
      ]
     },
     "execution_count": 36,
     "metadata": {},
     "output_type": "execute_result"
    }
   ],
   "source": [
    "# test = acc_drugtemp4_df['Coord'][0]\n",
    "# test.split(',')[1]\n",
    "test = kc_crime7['Geo'][0]\n",
    "test.split(',')[0]"
   ]
  },
  {
   "cell_type": "code",
   "execution_count": 95,
   "metadata": {
    "collapsed": true
   },
   "outputs": [],
   "source": [
    "kc_crime8 = kc_crime7['Geo'].str[0:].str.split(',', expand=True)"
   ]
  },
  {
   "cell_type": "code",
   "execution_count": 80,
   "metadata": {
    "collapsed": true
   },
   "outputs": [],
   "source": [
    "#Add a new column to the dataframe with the latitude and longitude\n",
    "# acc_drugtemp4_df = acc_drugtemp_df.assign(Coord = acc_drugtemp3_df[1][:-1][0:-1])\n",
    "kc_crime8 = kc_crime6_copy.assign(Coord = kc_crime7[2][:-1][0:-1])"
   ]
  },
  {
   "cell_type": "code",
   "execution_count": 57,
   "metadata": {
    "collapsed": true
   },
   "outputs": [],
   "source": [
    "#create a column called geo\n",
    "# acc_drugtemp3b_df['Lat'] = acc_drugtemp3_df[1][1][1:-1]\n",
    "kc_crime8['Geo'] = kc_crime7[2][:-1][0:-1]"
   ]
  },
  {
   "cell_type": "code",
   "execution_count": 19,
   "metadata": {},
   "outputs": [
    {
     "data": {
      "text/plain": [
       "' -94.57732'"
      ]
     },
     "execution_count": 19,
     "metadata": {},
     "output_type": "execute_result"
    }
   ],
   "source": [
    "# test = acc_drugtemp4_df['Coord'][0]\n",
    "# test.split(',')[1]\n",
    "test = kc_crime8['Geo'][0]\n",
    "test.split(',')[1]"
   ]
  },
  {
   "cell_type": "code",
   "execution_count": 20,
   "metadata": {
    "collapsed": true
   },
   "outputs": [],
   "source": [
    "# split the Coord column into two at the ,\n",
    "# acc_drugtemp5_df = acc_drugtemp4_df['Coord'].str[1:].str.split(',', expand=True)\n",
    "kc_crime9 = kc_crime8['Geo'].str[0:].str.split(',', expand=True)"
   ]
  },
  {
   "cell_type": "code",
   "execution_count": 22,
   "metadata": {
    "collapsed": true
   },
   "outputs": [],
   "source": [
    "#create a column called geo\n",
    "# acc_drugtemp3_df['Lat'] = acc_drugtemp5_df[0][:-1][0:-1]\n",
    "kc_crime8['Latitude'] = kc_crime9[0][:-1][0:-1]\n",
    "kc_crime8['Longitude'] = kc_crime9[1][:-1][0:-1]"
   ]
  },
  {
   "cell_type": "code",
   "execution_count": 24,
   "metadata": {},
   "outputs": [
    {
     "data": {
      "text/html": [
       "<div>\n",
       "<style>\n",
       "    .dataframe thead tr:only-child th {\n",
       "        text-align: right;\n",
       "    }\n",
       "\n",
       "    .dataframe thead th {\n",
       "        text-align: left;\n",
       "    }\n",
       "\n",
       "    .dataframe tbody tr th {\n",
       "        vertical-align: top;\n",
       "    }\n",
       "</style>\n",
       "<table border=\"1\" class=\"dataframe\">\n",
       "  <thead>\n",
       "    <tr style=\"text-align: right;\">\n",
       "      <th></th>\n",
       "      <th>Report_No</th>\n",
       "      <th>Reported_Date</th>\n",
       "      <th>Reported_Time</th>\n",
       "      <th>Description</th>\n",
       "      <th>Address</th>\n",
       "      <th>City</th>\n",
       "      <th>Zip Code</th>\n",
       "      <th>DVFlag</th>\n",
       "      <th>Invl_No</th>\n",
       "      <th>Involvement</th>\n",
       "      <th>Race</th>\n",
       "      <th>Sex</th>\n",
       "      <th>Age</th>\n",
       "      <th>Firearm Used Flag</th>\n",
       "      <th>Latitude</th>\n",
       "      <th>Longitude</th>\n",
       "    </tr>\n",
       "  </thead>\n",
       "  <tbody>\n",
       "    <tr>\n",
       "      <th>0</th>\n",
       "      <td>100080848</td>\n",
       "      <td>5/28/2017</td>\n",
       "      <td>3:44</td>\n",
       "      <td>Stolen Property OFFE</td>\n",
       "      <td>4000  MILL ST</td>\n",
       "      <td>KANSAS CITY</td>\n",
       "      <td>64111</td>\n",
       "      <td>U</td>\n",
       "      <td>1</td>\n",
       "      <td>VIC</td>\n",
       "      <td>W</td>\n",
       "      <td>F</td>\n",
       "      <td>29.0</td>\n",
       "      <td>N</td>\n",
       "      <td>39.10091</td>\n",
       "      <td>-94.57732</td>\n",
       "    </tr>\n",
       "  </tbody>\n",
       "</table>\n",
       "</div>"
      ],
      "text/plain": [
       "   Report_No Reported_Date Reported_Time           Description        Address  \\\n",
       "0  100080848     5/28/2017          3:44  Stolen Property OFFE  4000  MILL ST   \n",
       "\n",
       "          City  Zip Code DVFlag  Invl_No Involvement Race Sex   Age  \\\n",
       "0  KANSAS CITY     64111      U        1         VIC    W   F  29.0   \n",
       "\n",
       "  Firearm Used Flag  Latitude   Longitude  \n",
       "0                 N  39.10091   -94.57732  "
      ]
     },
     "execution_count": 24,
     "metadata": {},
     "output_type": "execute_result"
    }
   ],
   "source": [
    "kc_crime9 =  kc_crime8.drop(['Location', 'Coord', 'Geo'], axis=1)\n",
    "kc_crime9.head(1)"
   ]
  },
  {
   "cell_type": "markdown",
   "metadata": {},
   "source": [
    "### Label encode description"
   ]
  },
  {
   "cell_type": "code",
   "execution_count": 29,
   "metadata": {
    "collapsed": true
   },
   "outputs": [],
   "source": [
    "Description_columns = pd.get_dummies(kc_crime['Description'],prefix = \"Description\")\n",
    "kc_crime = pd.concat([kc_crime, Description_columns], axis=1)\n",
    "kc_crime.drop('Description', axis=1, inplace=True)"
   ]
  }
 ],
 "metadata": {
  "kernelspec": {
   "display_name": "Python 3",
   "language": "python",
   "name": "python3"
  },
  "language_info": {
   "codemirror_mode": {
    "name": "ipython",
    "version": 3
   },
   "file_extension": ".py",
   "mimetype": "text/x-python",
   "name": "python",
   "nbconvert_exporter": "python",
   "pygments_lexer": "ipython3",
   "version": "3.6.3"
  }
 },
 "nbformat": 4,
 "nbformat_minor": 2
}
