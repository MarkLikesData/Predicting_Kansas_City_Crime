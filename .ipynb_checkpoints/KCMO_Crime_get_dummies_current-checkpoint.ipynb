{
 "cells": [
  {
   "cell_type": "markdown",
   "metadata": {},
   "source": [
    "# Machine Learning Project\n",
    "# Kansas City Crime Data Deep Dive"
   ]
  },
  {
   "cell_type": "markdown",
   "metadata": {},
   "source": [
    "### Import Dependancies"
   ]
  },
  {
   "cell_type": "code",
   "execution_count": 1,
   "metadata": {
    "collapsed": true
   },
   "outputs": [],
   "source": [
    "import warnings\n",
    "warnings.simplefilter('ignore')\n",
    "\n",
    "%matplotlib inline\n",
    "import matplotlib.pyplot as plt\n",
    "\n",
    "import numpy as np\n",
    "import pandas as pd\n",
    "from pandas import datetime\n",
    "from scipy import stats\n",
    "import os"
   ]
  },
  {
   "cell_type": "markdown",
   "metadata": {},
   "source": [
    "### Obtain KCMO crime data (Raw data came from data.kcmo.org)"
   ]
  },
  {
   "cell_type": "code",
   "execution_count": 2,
   "metadata": {},
   "outputs": [
    {
     "data": {
      "text/html": [
       "<div>\n",
       "<style>\n",
       "    .dataframe thead tr:only-child th {\n",
       "        text-align: right;\n",
       "    }\n",
       "\n",
       "    .dataframe thead th {\n",
       "        text-align: left;\n",
       "    }\n",
       "\n",
       "    .dataframe tbody tr th {\n",
       "        vertical-align: top;\n",
       "    }\n",
       "</style>\n",
       "<table border=\"1\" class=\"dataframe\">\n",
       "  <thead>\n",
       "    <tr style=\"text-align: right;\">\n",
       "      <th></th>\n",
       "      <th>Report_No</th>\n",
       "      <th>Reported_Date</th>\n",
       "      <th>Reported_Time</th>\n",
       "      <th>From_Date</th>\n",
       "      <th>From_Time</th>\n",
       "      <th>To_Date</th>\n",
       "      <th>To_Time</th>\n",
       "      <th>Offense</th>\n",
       "      <th>IBRS</th>\n",
       "      <th>Description</th>\n",
       "      <th>...</th>\n",
       "      <th>Rep_Dist</th>\n",
       "      <th>Area</th>\n",
       "      <th>DVFlag</th>\n",
       "      <th>Invl_No</th>\n",
       "      <th>Involvement</th>\n",
       "      <th>Race</th>\n",
       "      <th>Sex</th>\n",
       "      <th>Age</th>\n",
       "      <th>Firearm Used Flag</th>\n",
       "      <th>Location</th>\n",
       "    </tr>\n",
       "  </thead>\n",
       "  <tbody>\n",
       "    <tr>\n",
       "      <th>0</th>\n",
       "      <td>100080848</td>\n",
       "      <td>5/28/2017</td>\n",
       "      <td>3:44</td>\n",
       "      <td>5/28/2017</td>\n",
       "      <td>2:00</td>\n",
       "      <td>NaN</td>\n",
       "      <td>NaN</td>\n",
       "      <td>1352</td>\n",
       "      <td>280</td>\n",
       "      <td>Stolen Property OFFE</td>\n",
       "      <td>...</td>\n",
       "      <td>PJ3255</td>\n",
       "      <td>CPD</td>\n",
       "      <td>U</td>\n",
       "      <td>1</td>\n",
       "      <td>VIC</td>\n",
       "      <td>W</td>\n",
       "      <td>F</td>\n",
       "      <td>29.0</td>\n",
       "      <td>N</td>\n",
       "      <td>4000 MILL ST\\nKANSAS CITY 64111\\n(39.053635, -...</td>\n",
       "    </tr>\n",
       "    <tr>\n",
       "      <th>1</th>\n",
       "      <td>120046817</td>\n",
       "      <td>11/21/2017</td>\n",
       "      <td>13:30</td>\n",
       "      <td>11/20/2017</td>\n",
       "      <td>9:00</td>\n",
       "      <td>NaN</td>\n",
       "      <td>NaN</td>\n",
       "      <td>101</td>\n",
       "      <td>09A</td>\n",
       "      <td>HOMICIDE/Non Neglige</td>\n",
       "      <td>...</td>\n",
       "      <td>PJ1029</td>\n",
       "      <td>CPD</td>\n",
       "      <td>U</td>\n",
       "      <td>1</td>\n",
       "      <td>SUS</td>\n",
       "      <td>B</td>\n",
       "      <td>M</td>\n",
       "      <td>NaN</td>\n",
       "      <td>Y</td>\n",
       "      <td>1100 LOCUST ST\\nKANSAS CITY 64105\\n(39.10091, ...</td>\n",
       "    </tr>\n",
       "    <tr>\n",
       "      <th>2</th>\n",
       "      <td>120046817</td>\n",
       "      <td>11/21/2017</td>\n",
       "      <td>13:30</td>\n",
       "      <td>11/20/2017</td>\n",
       "      <td>9:00</td>\n",
       "      <td>NaN</td>\n",
       "      <td>NaN</td>\n",
       "      <td>101</td>\n",
       "      <td>09A</td>\n",
       "      <td>HOMICIDE/Non Neglige</td>\n",
       "      <td>...</td>\n",
       "      <td>PJ1029</td>\n",
       "      <td>CPD</td>\n",
       "      <td>N</td>\n",
       "      <td>1</td>\n",
       "      <td>VIC</td>\n",
       "      <td>B</td>\n",
       "      <td>F</td>\n",
       "      <td>69.0</td>\n",
       "      <td>Y</td>\n",
       "      <td>1100 LOCUST ST\\nKANSAS CITY 64105\\n(39.10091, ...</td>\n",
       "    </tr>\n",
       "    <tr>\n",
       "      <th>3</th>\n",
       "      <td>120085080</td>\n",
       "      <td>4/27/2017</td>\n",
       "      <td>11:12</td>\n",
       "      <td>NaN</td>\n",
       "      <td>NaN</td>\n",
       "      <td>NaN</td>\n",
       "      <td>NaN</td>\n",
       "      <td>201</td>\n",
       "      <td>11A</td>\n",
       "      <td>Rape</td>\n",
       "      <td>...</td>\n",
       "      <td>NaN</td>\n",
       "      <td>NaN</td>\n",
       "      <td>U</td>\n",
       "      <td>1</td>\n",
       "      <td>VIC</td>\n",
       "      <td>B</td>\n",
       "      <td>F</td>\n",
       "      <td>21.0</td>\n",
       "      <td>N</td>\n",
       "      <td>99999\\n</td>\n",
       "    </tr>\n",
       "    <tr>\n",
       "      <th>4</th>\n",
       "      <td>120085080</td>\n",
       "      <td>4/27/2017</td>\n",
       "      <td>11:12</td>\n",
       "      <td>NaN</td>\n",
       "      <td>NaN</td>\n",
       "      <td>NaN</td>\n",
       "      <td>NaN</td>\n",
       "      <td>201</td>\n",
       "      <td>11A</td>\n",
       "      <td>Rape</td>\n",
       "      <td>...</td>\n",
       "      <td>NaN</td>\n",
       "      <td>NaN</td>\n",
       "      <td>U</td>\n",
       "      <td>1</td>\n",
       "      <td>SUS</td>\n",
       "      <td>B</td>\n",
       "      <td>M</td>\n",
       "      <td>52.0</td>\n",
       "      <td>N</td>\n",
       "      <td>99999\\n</td>\n",
       "    </tr>\n",
       "  </tbody>\n",
       "</table>\n",
       "<p>5 rows × 24 columns</p>\n",
       "</div>"
      ],
      "text/plain": [
       "   Report_No Reported_Date Reported_Time   From_Date From_Time To_Date  \\\n",
       "0  100080848     5/28/2017          3:44   5/28/2017      2:00     NaN   \n",
       "1  120046817    11/21/2017         13:30  11/20/2017      9:00     NaN   \n",
       "2  120046817    11/21/2017         13:30  11/20/2017      9:00     NaN   \n",
       "3  120085080     4/27/2017         11:12         NaN       NaN     NaN   \n",
       "4  120085080     4/27/2017         11:12         NaN       NaN     NaN   \n",
       "\n",
       "  To_Time  Offense IBRS           Description  \\\n",
       "0     NaN     1352  280  Stolen Property OFFE   \n",
       "1     NaN      101  09A  HOMICIDE/Non Neglige   \n",
       "2     NaN      101  09A  HOMICIDE/Non Neglige   \n",
       "3     NaN      201  11A                  Rape   \n",
       "4     NaN      201  11A                  Rape   \n",
       "\n",
       "                         ...                          Rep_Dist Area DVFlag  \\\n",
       "0                        ...                            PJ3255  CPD      U   \n",
       "1                        ...                            PJ1029  CPD      U   \n",
       "2                        ...                            PJ1029  CPD      N   \n",
       "3                        ...                               NaN  NaN      U   \n",
       "4                        ...                               NaN  NaN      U   \n",
       "\n",
       "   Invl_No Involvement Race Sex   Age Firearm Used Flag  \\\n",
       "0        1         VIC    W   F  29.0                 N   \n",
       "1        1         SUS    B   M   NaN                 Y   \n",
       "2        1         VIC    B   F  69.0                 Y   \n",
       "3        1         VIC    B   F  21.0                 N   \n",
       "4        1         SUS    B   M  52.0                 N   \n",
       "\n",
       "                                            Location  \n",
       "0  4000 MILL ST\\nKANSAS CITY 64111\\n(39.053635, -...  \n",
       "1  1100 LOCUST ST\\nKANSAS CITY 64105\\n(39.10091, ...  \n",
       "2  1100 LOCUST ST\\nKANSAS CITY 64105\\n(39.10091, ...  \n",
       "3                                            99999\\n  \n",
       "4                                            99999\\n  \n",
       "\n",
       "[5 rows x 24 columns]"
      ]
     },
     "execution_count": 2,
     "metadata": {},
     "output_type": "execute_result"
    }
   ],
   "source": [
    "file_name = os.path.join('Resources', 'KCPD_Crime_Data_2017.csv')\n",
    "kc_crime = pd.read_csv(file_name)\n",
    "# kc_crime.Reported_Date = pd.to_datetime(kc_crime.Reported_Date)\n",
    "kc_crime.reset_index()\n",
    "kc_crime.head()"
   ]
  },
  {
   "cell_type": "markdown",
   "metadata": {},
   "source": [
    "### Round time to nearest hour"
   ]
  },
  {
   "cell_type": "markdown",
   "metadata": {},
   "source": [
    "##### The next 3 lines didn't work"
   ]
  },
  {
   "cell_type": "code",
   "execution_count": 3,
   "metadata": {
    "collapsed": true
   },
   "outputs": [],
   "source": [
    "# kc_crime_close['time1'] = kc_crime_close['Time'].dt.floor('h')"
   ]
  },
  {
   "cell_type": "code",
   "execution_count": 4,
   "metadata": {
    "collapsed": true
   },
   "outputs": [],
   "source": [
    "# kc_crime_close['Time'].dt.round('H').dt.hour"
   ]
  },
  {
   "cell_type": "code",
   "execution_count": 5,
   "metadata": {
    "collapsed": true
   },
   "outputs": [],
   "source": [
    "# kc_crime['Reported_Time'] = pd.to_datetime(kc_crime['Reported_Time']) "
   ]
  },
  {
   "cell_type": "markdown",
   "metadata": {},
   "source": [
    "### Rename & drop columns"
   ]
  },
  {
   "cell_type": "code",
   "execution_count": 6,
   "metadata": {
    "collapsed": true
   },
   "outputs": [],
   "source": [
    "kc_crime.rename(columns={'Zip Code':'zip_code'}, inplace=True)\n",
    "kc_crime_dropped_columns = kc_crime.drop(['To_Date', 'From_Date', 'To_Time', 'From_Time',\n",
    "                          'Offense', 'IBRS', 'Rep_Dist', 'Area', 'Beat', 'Address'], axis=1)"
   ]
  },
  {
   "cell_type": "markdown",
   "metadata": {},
   "source": [
    "### Filter for male and female victims age 90 and under in KCMO"
   ]
  },
  {
   "cell_type": "code",
   "execution_count": 7,
   "metadata": {
    "collapsed": true
   },
   "outputs": [],
   "source": [
    "kc_crime_clean_zips = kc_crime_dropped_columns[kc_crime_dropped_columns.zip_code != 99999]\n",
    "only_kc_crime = kc_crime_clean_zips[kc_crime_clean_zips.City.str.contains(\"KANSAS CITY\") == True]\n",
    "\n",
    "victims = only_kc_crime[only_kc_crime.Involvement.str.contains(\"VIC\") == True]\n",
    "\n",
    "victims_no_nans = victims[victims.Sex.str.contains(\"NaN\") == False]\n",
    "male_female_victims_kcmo = victims_no_nans[victims_no_nans.Sex.str.contains(\"U\") == False]\n",
    "\n",
    "kc_crime_real_ages = male_female_victims_kcmo[male_female_victims_kcmo['Age'] < 91]"
   ]
  },
  {
   "cell_type": "markdown",
   "metadata": {},
   "source": [
    "### Copy kc_crime_real_ages and separate \"Location\" into 3 columns"
   ]
  },
  {
   "cell_type": "code",
   "execution_count": 8,
   "metadata": {},
   "outputs": [
    {
     "data": {
      "text/html": [
       "<div>\n",
       "<style>\n",
       "    .dataframe thead tr:only-child th {\n",
       "        text-align: right;\n",
       "    }\n",
       "\n",
       "    .dataframe thead th {\n",
       "        text-align: left;\n",
       "    }\n",
       "\n",
       "    .dataframe tbody tr th {\n",
       "        vertical-align: top;\n",
       "    }\n",
       "</style>\n",
       "<table border=\"1\" class=\"dataframe\">\n",
       "  <thead>\n",
       "    <tr style=\"text-align: right;\">\n",
       "      <th></th>\n",
       "      <th>Report_No</th>\n",
       "      <th>Reported_Date</th>\n",
       "      <th>Reported_Time</th>\n",
       "      <th>Description</th>\n",
       "      <th>City</th>\n",
       "      <th>zip_code</th>\n",
       "      <th>DVFlag</th>\n",
       "      <th>Invl_No</th>\n",
       "      <th>Involvement</th>\n",
       "      <th>Race</th>\n",
       "      <th>Sex</th>\n",
       "      <th>Age</th>\n",
       "      <th>Firearm Used Flag</th>\n",
       "      <th>Location</th>\n",
       "    </tr>\n",
       "  </thead>\n",
       "  <tbody>\n",
       "    <tr>\n",
       "      <th>0</th>\n",
       "      <td>100080848</td>\n",
       "      <td>5/28/2017</td>\n",
       "      <td>3:44</td>\n",
       "      <td>Stolen Property OFFE</td>\n",
       "      <td>KANSAS CITY</td>\n",
       "      <td>64111</td>\n",
       "      <td>U</td>\n",
       "      <td>1</td>\n",
       "      <td>VIC</td>\n",
       "      <td>W</td>\n",
       "      <td>F</td>\n",
       "      <td>29.0</td>\n",
       "      <td>N</td>\n",
       "      <td>4000 MILL ST\\nKANSAS CITY 64111\\n(39.053635, -...</td>\n",
       "    </tr>\n",
       "  </tbody>\n",
       "</table>\n",
       "</div>"
      ],
      "text/plain": [
       "   Report_No Reported_Date Reported_Time           Description         City  \\\n",
       "0  100080848     5/28/2017          3:44  Stolen Property OFFE  KANSAS CITY   \n",
       "\n",
       "   zip_code DVFlag  Invl_No Involvement Race Sex   Age Firearm Used Flag  \\\n",
       "0     64111      U        1         VIC    W   F  29.0                 N   \n",
       "\n",
       "                                            Location  \n",
       "0  4000 MILL ST\\nKANSAS CITY 64111\\n(39.053635, -...  "
      ]
     },
     "execution_count": 8,
     "metadata": {},
     "output_type": "execute_result"
    }
   ],
   "source": [
    "kc_crime_real_ages_copy = kc_crime_real_ages.copy()\n",
    "kc_crime_real_ages_copy.head(1)"
   ]
  },
  {
   "cell_type": "markdown",
   "metadata": {},
   "source": [
    "# Split out geo data"
   ]
  },
  {
   "cell_type": "code",
   "execution_count": 9,
   "metadata": {},
   "outputs": [
    {
     "data": {
      "text/html": [
       "<div>\n",
       "<style>\n",
       "    .dataframe thead tr:only-child th {\n",
       "        text-align: right;\n",
       "    }\n",
       "\n",
       "    .dataframe thead th {\n",
       "        text-align: left;\n",
       "    }\n",
       "\n",
       "    .dataframe tbody tr th {\n",
       "        vertical-align: top;\n",
       "    }\n",
       "</style>\n",
       "<table border=\"1\" class=\"dataframe\">\n",
       "  <thead>\n",
       "    <tr style=\"text-align: right;\">\n",
       "      <th></th>\n",
       "      <th>address</th>\n",
       "      <th>city_zip</th>\n",
       "      <th>geo</th>\n",
       "    </tr>\n",
       "  </thead>\n",
       "  <tbody>\n",
       "    <tr>\n",
       "      <th>0</th>\n",
       "      <td>4000 MILL ST</td>\n",
       "      <td>KANSAS CITY 64111</td>\n",
       "      <td>(39.053635, -94.595998</td>\n",
       "    </tr>\n",
       "  </tbody>\n",
       "</table>\n",
       "</div>"
      ],
      "text/plain": [
       "        address           city_zip                     geo\n",
       "0  4000 MILL ST  KANSAS CITY 64111  (39.053635, -94.595998"
      ]
     },
     "execution_count": 9,
     "metadata": {},
     "output_type": "execute_result"
    }
   ],
   "source": [
    "location_only = kc_crime_real_ages_copy['Location'].str[0:-1].str.split('\\n', expand=True)\n",
    "location_only.columns = (\"address\", \"city_zip\", \"geo\")\n",
    "location_only.head(1)"
   ]
  },
  {
   "cell_type": "markdown",
   "metadata": {},
   "source": [
    "### Parsing out latitude and longitude"
   ]
  },
  {
   "cell_type": "code",
   "execution_count": 10,
   "metadata": {},
   "outputs": [
    {
     "data": {
      "text/html": [
       "<div>\n",
       "<style>\n",
       "    .dataframe thead tr:only-child th {\n",
       "        text-align: right;\n",
       "    }\n",
       "\n",
       "    .dataframe thead th {\n",
       "        text-align: left;\n",
       "    }\n",
       "\n",
       "    .dataframe tbody tr th {\n",
       "        vertical-align: top;\n",
       "    }\n",
       "</style>\n",
       "<table border=\"1\" class=\"dataframe\">\n",
       "  <thead>\n",
       "    <tr style=\"text-align: right;\">\n",
       "      <th></th>\n",
       "      <th>Latitude</th>\n",
       "      <th>Longitude</th>\n",
       "    </tr>\n",
       "  </thead>\n",
       "  <tbody>\n",
       "    <tr>\n",
       "      <th>0</th>\n",
       "      <td>39.053635</td>\n",
       "      <td>-94.595998</td>\n",
       "    </tr>\n",
       "  </tbody>\n",
       "</table>\n",
       "</div>"
      ],
      "text/plain": [
       "    Latitude   Longitude\n",
       "0  39.053635  -94.595998"
      ]
     },
     "execution_count": 10,
     "metadata": {},
     "output_type": "execute_result"
    }
   ],
   "source": [
    "location_only['geo'] = location_only['geo'].str[1:]\n",
    "geo_split = location_only['geo'].str[0:].str.split(', ', expand=True)\n",
    "geo_split.columns = (\"Latitude\", \"Longitude\")\n",
    "geo_split.head(1)"
   ]
  },
  {
   "cell_type": "code",
   "execution_count": 11,
   "metadata": {},
   "outputs": [
    {
     "data": {
      "text/plain": [
       "Report_No            43032\n",
       "Reported_Date        43032\n",
       "Reported_Time        43032\n",
       "Description          43032\n",
       "City                 43032\n",
       "zip_code             43032\n",
       "DVFlag               43032\n",
       "Invl_No              43032\n",
       "Involvement          43032\n",
       "Race                 43032\n",
       "Sex                  43032\n",
       "Age                  43032\n",
       "Firearm Used Flag    43032\n",
       "Location             43032\n",
       "dtype: int64"
      ]
     },
     "execution_count": 11,
     "metadata": {},
     "output_type": "execute_result"
    }
   ],
   "source": [
    "kc_crime_real_ages_copy.count()"
   ]
  },
  {
   "cell_type": "code",
   "execution_count": 12,
   "metadata": {},
   "outputs": [
    {
     "data": {
      "text/plain": [
       "Latitude     32283\n",
       "Longitude    32283\n",
       "dtype: int64"
      ]
     },
     "execution_count": 12,
     "metadata": {},
     "output_type": "execute_result"
    }
   ],
   "source": [
    "geo_split.count()"
   ]
  },
  {
   "cell_type": "code",
   "execution_count": 13,
   "metadata": {},
   "outputs": [
    {
     "data": {
      "text/html": [
       "<div>\n",
       "<style>\n",
       "    .dataframe thead tr:only-child th {\n",
       "        text-align: right;\n",
       "    }\n",
       "\n",
       "    .dataframe thead th {\n",
       "        text-align: left;\n",
       "    }\n",
       "\n",
       "    .dataframe tbody tr th {\n",
       "        vertical-align: top;\n",
       "    }\n",
       "</style>\n",
       "<table border=\"1\" class=\"dataframe\">\n",
       "  <thead>\n",
       "    <tr style=\"text-align: right;\">\n",
       "      <th></th>\n",
       "      <th>Report_No</th>\n",
       "      <th>Reported_Date</th>\n",
       "      <th>Reported_Time</th>\n",
       "      <th>Description</th>\n",
       "      <th>City</th>\n",
       "      <th>zip_code</th>\n",
       "      <th>DVFlag</th>\n",
       "      <th>Invl_No</th>\n",
       "      <th>Involvement</th>\n",
       "      <th>Race</th>\n",
       "      <th>Sex</th>\n",
       "      <th>Age</th>\n",
       "      <th>Firearm Used Flag</th>\n",
       "      <th>Location</th>\n",
       "      <th>Latitude</th>\n",
       "      <th>Longitude</th>\n",
       "    </tr>\n",
       "  </thead>\n",
       "  <tbody>\n",
       "    <tr>\n",
       "      <th>0</th>\n",
       "      <td>100080848</td>\n",
       "      <td>5/28/2017</td>\n",
       "      <td>3:44</td>\n",
       "      <td>Stolen Property OFFE</td>\n",
       "      <td>KANSAS CITY</td>\n",
       "      <td>64111</td>\n",
       "      <td>U</td>\n",
       "      <td>1</td>\n",
       "      <td>VIC</td>\n",
       "      <td>W</td>\n",
       "      <td>F</td>\n",
       "      <td>29.0</td>\n",
       "      <td>N</td>\n",
       "      <td>4000 MILL ST\\nKANSAS CITY 64111\\n(39.053635, -...</td>\n",
       "      <td>39.053635</td>\n",
       "      <td>-94.595998</td>\n",
       "    </tr>\n",
       "  </tbody>\n",
       "</table>\n",
       "</div>"
      ],
      "text/plain": [
       "   Report_No Reported_Date Reported_Time           Description         City  \\\n",
       "0  100080848     5/28/2017          3:44  Stolen Property OFFE  KANSAS CITY   \n",
       "\n",
       "   zip_code DVFlag  Invl_No Involvement Race Sex   Age Firearm Used Flag  \\\n",
       "0     64111      U        1         VIC    W   F  29.0                 N   \n",
       "\n",
       "                                            Location   Latitude   Longitude  \n",
       "0  4000 MILL ST\\nKANSAS CITY 64111\\n(39.053635, -...  39.053635  -94.595998  "
      ]
     },
     "execution_count": 13,
     "metadata": {},
     "output_type": "execute_result"
    }
   ],
   "source": [
    "kcmo_crime_with_nans = pd.concat([kc_crime_real_ages_copy, geo_split], axis=1)\n",
    "kcmo_crime_with_nans.head(1)"
   ]
  },
  {
   "cell_type": "code",
   "execution_count": 14,
   "metadata": {},
   "outputs": [
    {
     "data": {
      "text/plain": [
       "Report_No            43032\n",
       "Reported_Date        43032\n",
       "Reported_Time        43032\n",
       "Description          43032\n",
       "City                 43032\n",
       "zip_code             43032\n",
       "DVFlag               43032\n",
       "Invl_No              43032\n",
       "Involvement          43032\n",
       "Race                 43032\n",
       "Sex                  43032\n",
       "Age                  43032\n",
       "Firearm Used Flag    43032\n",
       "Location             43032\n",
       "Latitude             32283\n",
       "Longitude            32283\n",
       "dtype: int64"
      ]
     },
     "execution_count": 14,
     "metadata": {},
     "output_type": "execute_result"
    }
   ],
   "source": [
    "kcmo_crime_with_nans.count()"
   ]
  },
  {
   "cell_type": "code",
   "execution_count": 22,
   "metadata": {},
   "outputs": [
    {
     "data": {
      "text/html": [
       "<div>\n",
       "<style>\n",
       "    .dataframe thead tr:only-child th {\n",
       "        text-align: right;\n",
       "    }\n",
       "\n",
       "    .dataframe thead th {\n",
       "        text-align: left;\n",
       "    }\n",
       "\n",
       "    .dataframe tbody tr th {\n",
       "        vertical-align: top;\n",
       "    }\n",
       "</style>\n",
       "<table border=\"1\" class=\"dataframe\">\n",
       "  <thead>\n",
       "    <tr style=\"text-align: right;\">\n",
       "      <th></th>\n",
       "      <th>Report_No</th>\n",
       "      <th>Reported_Date</th>\n",
       "      <th>Reported_Time</th>\n",
       "      <th>Description</th>\n",
       "      <th>zip_code</th>\n",
       "      <th>Race</th>\n",
       "      <th>Sex</th>\n",
       "      <th>Age</th>\n",
       "      <th>Latitude</th>\n",
       "      <th>Longitude</th>\n",
       "    </tr>\n",
       "  </thead>\n",
       "  <tbody>\n",
       "    <tr>\n",
       "      <th>0</th>\n",
       "      <td>100080848</td>\n",
       "      <td>5/28/2017</td>\n",
       "      <td>3:44</td>\n",
       "      <td>Stolen Property OFFE</td>\n",
       "      <td>64111</td>\n",
       "      <td>W</td>\n",
       "      <td>F</td>\n",
       "      <td>29.0</td>\n",
       "      <td>39.053635</td>\n",
       "      <td>-94.595998</td>\n",
       "    </tr>\n",
       "  </tbody>\n",
       "</table>\n",
       "</div>"
      ],
      "text/plain": [
       "   Report_No Reported_Date Reported_Time           Description  zip_code Race  \\\n",
       "0  100080848     5/28/2017          3:44  Stolen Property OFFE     64111    W   \n",
       "\n",
       "  Sex   Age   Latitude   Longitude  \n",
       "0   F  29.0  39.053635  -94.595998  "
      ]
     },
     "execution_count": 22,
     "metadata": {},
     "output_type": "execute_result"
    }
   ],
   "source": [
    "kcmo_crime_no_lat_nans = kcmo_crime_with_nans[kcmo_crime_with_nans.Latitude.str.contains(\"NaN\") == False]\n",
    "kcmo_crime_no_nans = kcmo_crime_no_lat_nans[kcmo_crime_no_lat_nans.Longitude.str.contains(\"NaN\") == False]\n",
    "kc_crime_close = kcmo_crime_no_nans.drop(['City', 'DVFlag', 'Invl_No', 'Involvement', 'Firearm Used Flag', 'Location'], axis=1)\n",
    "kc_crime_close.head(1)"
   ]
  },
  {
   "cell_type": "code",
   "execution_count": 23,
   "metadata": {},
   "outputs": [
    {
     "data": {
      "text/html": [
       "<div>\n",
       "<style>\n",
       "    .dataframe thead tr:only-child th {\n",
       "        text-align: right;\n",
       "    }\n",
       "\n",
       "    .dataframe thead th {\n",
       "        text-align: left;\n",
       "    }\n",
       "\n",
       "    .dataframe tbody tr th {\n",
       "        vertical-align: top;\n",
       "    }\n",
       "</style>\n",
       "<table border=\"1\" class=\"dataframe\">\n",
       "  <thead>\n",
       "    <tr style=\"text-align: right;\">\n",
       "      <th></th>\n",
       "      <th>Report</th>\n",
       "      <th>Date</th>\n",
       "      <th>Time</th>\n",
       "      <th>Crime</th>\n",
       "      <th>Zip</th>\n",
       "      <th>Race</th>\n",
       "      <th>Sex</th>\n",
       "      <th>Age</th>\n",
       "      <th>Latitude</th>\n",
       "      <th>Longitude</th>\n",
       "    </tr>\n",
       "  </thead>\n",
       "  <tbody>\n",
       "    <tr>\n",
       "      <th>0</th>\n",
       "      <td>100080848</td>\n",
       "      <td>5/28/2017</td>\n",
       "      <td>3:44</td>\n",
       "      <td>Stolen Property OFFE</td>\n",
       "      <td>64111</td>\n",
       "      <td>W</td>\n",
       "      <td>F</td>\n",
       "      <td>29.0</td>\n",
       "      <td>39.053635</td>\n",
       "      <td>-94.595998</td>\n",
       "    </tr>\n",
       "    <tr>\n",
       "      <th>1</th>\n",
       "      <td>120046817</td>\n",
       "      <td>11/21/2017</td>\n",
       "      <td>13:30</td>\n",
       "      <td>HOMICIDE/Non Neglige</td>\n",
       "      <td>64105</td>\n",
       "      <td>B</td>\n",
       "      <td>F</td>\n",
       "      <td>69.0</td>\n",
       "      <td>39.10091</td>\n",
       "      <td>-94.577328</td>\n",
       "    </tr>\n",
       "    <tr>\n",
       "      <th>2</th>\n",
       "      <td>160028258</td>\n",
       "      <td>8/2/2017</td>\n",
       "      <td>13:50</td>\n",
       "      <td>Auto Theft</td>\n",
       "      <td>64119</td>\n",
       "      <td>W</td>\n",
       "      <td>F</td>\n",
       "      <td>31.0</td>\n",
       "      <td>39.17744</td>\n",
       "      <td>-94.572069</td>\n",
       "    </tr>\n",
       "    <tr>\n",
       "      <th>3</th>\n",
       "      <td>160034107</td>\n",
       "      <td>8/24/2017</td>\n",
       "      <td>16:22</td>\n",
       "      <td>Intimidation</td>\n",
       "      <td>64130</td>\n",
       "      <td>W</td>\n",
       "      <td>F</td>\n",
       "      <td>19.0</td>\n",
       "      <td>39.033505</td>\n",
       "      <td>-94.547812</td>\n",
       "    </tr>\n",
       "    <tr>\n",
       "      <th>4</th>\n",
       "      <td>160063139</td>\n",
       "      <td>3/15/2017</td>\n",
       "      <td>14:06</td>\n",
       "      <td>Auto Theft</td>\n",
       "      <td>64157</td>\n",
       "      <td>W</td>\n",
       "      <td>F</td>\n",
       "      <td>62.0</td>\n",
       "      <td>39.235881</td>\n",
       "      <td>-94.466171</td>\n",
       "    </tr>\n",
       "  </tbody>\n",
       "</table>\n",
       "</div>"
      ],
      "text/plain": [
       "      Report        Date   Time                 Crime    Zip Race Sex   Age  \\\n",
       "0  100080848   5/28/2017   3:44  Stolen Property OFFE  64111    W   F  29.0   \n",
       "1  120046817  11/21/2017  13:30  HOMICIDE/Non Neglige  64105    B   F  69.0   \n",
       "2  160028258    8/2/2017  13:50            Auto Theft  64119    W   F  31.0   \n",
       "3  160034107   8/24/2017  16:22          Intimidation  64130    W   F  19.0   \n",
       "4  160063139   3/15/2017  14:06            Auto Theft  64157    W   F  62.0   \n",
       "\n",
       "    Latitude   Longitude  \n",
       "0  39.053635  -94.595998  \n",
       "1   39.10091  -94.577328  \n",
       "2   39.17744  -94.572069  \n",
       "3  39.033505  -94.547812  \n",
       "4  39.235881  -94.466171  "
      ]
     },
     "execution_count": 23,
     "metadata": {},
     "output_type": "execute_result"
    }
   ],
   "source": [
    "kc_crime_close.columns = (\"Report\", \"Date\", \"Time\", \"Crime\", \"Zip\", \"Race\", \"Sex\", \"Age\", \"Latitude\", \"Longitude\")\n",
    "kc_crime_close = kc_crime_close.reset_index(drop=True)\n",
    "kc_crime_close.head()"
   ]
  },
  {
   "cell_type": "code",
   "execution_count": 24,
   "metadata": {},
   "outputs": [
    {
     "data": {
      "text/plain": [
       "Report       32283\n",
       "Date         32283\n",
       "Time         32283\n",
       "Crime        32283\n",
       "Zip          32283\n",
       "Race         32283\n",
       "Sex          32283\n",
       "Age          32283\n",
       "Latitude     32283\n",
       "Longitude    32283\n",
       "dtype: int64"
      ]
     },
     "execution_count": 24,
     "metadata": {},
     "output_type": "execute_result"
    }
   ],
   "source": [
    "kc_crime_close.count()"
   ]
  },
  {
   "cell_type": "code",
   "execution_count": 25,
   "metadata": {},
   "outputs": [
    {
     "data": {
      "image/png": "[encoded data removed]",
      "text/plain": [
       "<matplotlib.figure.Figure at 0x20e478cd780>"
      ]
     },
     "metadata": {},
     "output_type": "display_data"
    }
   ],
   "source": [
    "plt.scatter(kc_crime_close.Age, kc_crime_close.Zip)\n",
    "plt.show()"
   ]
  },
  {
   "cell_type": "code",
   "execution_count": 26,
   "metadata": {},
   "outputs": [
    {
     "data": {
      "image/png": "[encoded data removed]",
      "text/plain": [
       "<matplotlib.figure.Figure at 0x20e50dc4a90>"
      ]
     },
     "metadata": {},
     "output_type": "display_data"
    }
   ],
   "source": [
    "plt.scatter(kc_crime_close.Longitude, kc_crime_close.Latitude, c=kc_crime_close.Age, \n",
    "           cmap='viridis_r', alpha = 0.8, s=2)\n",
    "plt.colorbar()\n",
    "plt.show()"
   ]
  },
  {
   "cell_type": "code",
   "execution_count": 35,
   "metadata": {
    "collapsed": true
   },
   "outputs": [],
   "source": [
    "x_axis = np.arange(len(kc_crime_close['Crime']))\n",
    "tick_locations = [value+0.4 for value in x_axis]"
   ]
  },
  {
   "cell_type": "code",
   "execution_count": 36,
   "metadata": {},
   "outputs": [
    {
     "data": {
      "text/plain": [
       "([0,\n",
       "  1,\n",
       "  2,\n",
       "  3,\n",
       "  4,\n",
       "  5,\n",
       "  6,\n",
       "  7,\n",
       "  8,\n",
       "  9,\n",
       "  10,\n",
       "  11,\n",
       "  12,\n",
       "  13,\n",
       "  14,\n",
       "  15,\n",
       "  16,\n",
       "  17,\n",
       "  18,\n",
       "  19,\n",
       "  20,\n",
       "  21,\n",
       "  22,\n",
       "  23,\n",
       "  24,\n",
       "  25,\n",
       "  26,\n",
       "  27,\n",
       "  28,\n",
       "  29,\n",
       "  30,\n",
       "  31,\n",
       "  32,\n",
       "  33,\n",
       "  34,\n",
       "  35,\n",
       "  36,\n",
       "  37,\n",
       "  38,\n",
       "  39,\n",
       "  40,\n",
       "  41,\n",
       "  42,\n",
       "  43,\n",
       "  44,\n",
       "  45,\n",
       "  46,\n",
       "  47,\n",
       "  48,\n",
       "  49,\n",
       "  50,\n",
       "  51,\n",
       "  52,\n",
       "  53,\n",
       "  54,\n",
       "  55,\n",
       "  56,\n",
       "  57,\n",
       "  58,\n",
       "  59,\n",
       "  60,\n",
       "  61,\n",
       "  62,\n",
       "  63,\n",
       "  64,\n",
       "  65,\n",
       "  66,\n",
       "  67,\n",
       "  68,\n",
       "  69,\n",
       "  70,\n",
       "  71,\n",
       "  72,\n",
       "  73,\n",
       "  74,\n",
       "  75,\n",
       "  76,\n",
       "  77,\n",
       "  78,\n",
       "  79,\n",
       "  80,\n",
       "  81,\n",
       "  82,\n",
       "  83,\n",
       "  84,\n",
       "  85,\n",
       "  86,\n",
       "  87,\n",
       "  88,\n",
       "  89,\n",
       "  90,\n",
       "  91],\n",
       " <a list of 92 Text xticklabel objects>)"
      ]
     },
     "execution_count": 36,
     "metadata": {},
     "output_type": "execute_result"
    }
   ],
   "source": [
    "plt.figure(figsize=(20,3))\n",
    "plt.bar(kc_crime_close['Crime'], kc_crime_close[\"Age\"], color='r', alpha=0.5, align=\"edge\")\n",
    "plt.xticks(rotation=\"vertical\")"
   ]
  },
  {
   "cell_type": "code",
   "execution_count": 37,
   "metadata": {},
   "outputs": [
    {
     "data": {
      "text/plain": [
       "(0, 95.0)"
      ]
     },
     "execution_count": 37,
     "metadata": {},
     "output_type": "execute_result"
    }
   ],
   "source": [
    "# Set x and y limits\n",
    "plt.xlim(-0.25, len(x_axis))\n",
    "plt.ylim(0, max(kc_crime_close[\"Age\"])+5)"
   ]
  },
  {
   "cell_type": "code",
   "execution_count": 38,
   "metadata": {},
   "outputs": [
    {
     "data": {
      "text/plain": [
       "Text(0,0.5,'Age')"
      ]
     },
     "execution_count": 38,
     "metadata": {},
     "output_type": "execute_result"
    }
   ],
   "source": [
    "# Set a Title and labels\n",
    "plt.title(\"Average Age Crime of Victims\")\n",
    "plt.xlabel(\"Crime\")\n",
    "plt.ylabel(\"Age\")"
   ]
  },
  {
   "cell_type": "code",
   "execution_count": 39,
   "metadata": {},
   "outputs": [
    {
     "data": {
      "image/png": "[encoded data removed]",
      "text/plain": [
       "<matplotlib.figure.Figure at 0x20e6ac716a0>"
      ]
     },
     "metadata": {},
     "output_type": "display_data"
    }
   ],
   "source": [
    "# plt.tight_layout()\n",
    "# plt.savefig(\"avg_state_rain.png\")\n",
    "plt.show()"
   ]
  },
  {
   "cell_type": "markdown",
   "metadata": {},
   "source": [
    "### Confirming Clean Data in Excel"
   ]
  },
  {
   "cell_type": "code",
   "execution_count": 18,
   "metadata": {
    "collapsed": true
   },
   "outputs": [],
   "source": [
    "# kc_crime_close.to_csv('kc_crime_close.csv', index=False)"
   ]
  },
  {
   "cell_type": "markdown",
   "metadata": {},
   "source": [
    "# Confirm above data is good before proceeding"
   ]
  },
  {
   "cell_type": "markdown",
   "metadata": {},
   "source": [
    "### Apply get_dummies function"
   ]
  },
  {
   "cell_type": "code",
   "execution_count": 19,
   "metadata": {},
   "outputs": [],
   "source": [
    "crime_columns = pd.get_dummies(kc_crime_close['Crime'],prefix = \"Crime\")\n",
    "kc_crime_close = pd.concat([kc_crime_close, crime_columns], axis=1)\n",
    "kc_crime_close.drop('Crime', axis=1, inplace=True)\n",
    "zip_columns = pd.get_dummies(kc_crime_close['Zip'],prefix = \"Zip\")\n",
    "kc_crime_close = pd.concat([kc_crime_close, zip_columns], axis=1)\n",
    "kc_crime_close.drop('Zip', axis=1, inplace=True)\n",
    "race_columns = pd.get_dummies(kc_crime_close['Race'],prefix = \"Race\")\n",
    "kc_crime_close = pd.concat([kc_crime_close, race_columns], axis=1)\n",
    "kc_crime_close.drop('Race', axis=1, inplace=True)\n",
    "sex_columns = pd.get_dummies(kc_crime_close['Sex'],prefix = \"Sex\")\n",
    "kc_crime_close = pd.concat([kc_crime_close, sex_columns], axis=1)\n",
    "kc_crime_close.drop('Sex', axis=1, inplace=True)\n",
    "age_columns = pd.get_dummies(kc_crime_close['Age'],prefix = \"Age\")\n",
    "kc_crime_close = pd.concat([kc_crime_close, age_columns], axis=1)\n",
    "kc_crime_close.drop('Age', axis=1, inplace=True)"
   ]
  },
  {
   "cell_type": "code",
   "execution_count": 20,
   "metadata": {},
   "outputs": [
    {
     "data": {
      "text/html": [
       "<div>\n",
       "<style>\n",
       "    .dataframe thead tr:only-child th {\n",
       "        text-align: right;\n",
       "    }\n",
       "\n",
       "    .dataframe thead th {\n",
       "        text-align: left;\n",
       "    }\n",
       "\n",
       "    .dataframe tbody tr th {\n",
       "        vertical-align: top;\n",
       "    }\n",
       "</style>\n",
       "<table border=\"1\" class=\"dataframe\">\n",
       "  <thead>\n",
       "    <tr style=\"text-align: right;\">\n",
       "      <th></th>\n",
       "      <th>Report</th>\n",
       "      <th>Date</th>\n",
       "      <th>Time</th>\n",
       "      <th>Latitude</th>\n",
       "      <th>Longitude</th>\n",
       "      <th>Crime_Agg Assault - Domest</th>\n",
       "      <th>Crime_Agg Assault - Drive-</th>\n",
       "      <th>Crime_Aggravated Assault</th>\n",
       "      <th>Crime_Aggravated Assault (</th>\n",
       "      <th>Crime_Armed Robbery</th>\n",
       "      <th>...</th>\n",
       "      <th>Age_81.0</th>\n",
       "      <th>Age_82.0</th>\n",
       "      <th>Age_83.0</th>\n",
       "      <th>Age_84.0</th>\n",
       "      <th>Age_85.0</th>\n",
       "      <th>Age_86.0</th>\n",
       "      <th>Age_87.0</th>\n",
       "      <th>Age_88.0</th>\n",
       "      <th>Age_89.0</th>\n",
       "      <th>Age_90.0</th>\n",
       "    </tr>\n",
       "  </thead>\n",
       "  <tbody>\n",
       "    <tr>\n",
       "      <th>0</th>\n",
       "      <td>100080848</td>\n",
       "      <td>5/28/2017</td>\n",
       "      <td>3:44</td>\n",
       "      <td>39.053635</td>\n",
       "      <td>-94.595998</td>\n",
       "      <td>0</td>\n",
       "      <td>0</td>\n",
       "      <td>0</td>\n",
       "      <td>0</td>\n",
       "      <td>0</td>\n",
       "      <td>...</td>\n",
       "      <td>0</td>\n",
       "      <td>0</td>\n",
       "      <td>0</td>\n",
       "      <td>0</td>\n",
       "      <td>0</td>\n",
       "      <td>0</td>\n",
       "      <td>0</td>\n",
       "      <td>0</td>\n",
       "      <td>0</td>\n",
       "      <td>0</td>\n",
       "    </tr>\n",
       "    <tr>\n",
       "      <th>1</th>\n",
       "      <td>120046817</td>\n",
       "      <td>11/21/2017</td>\n",
       "      <td>13:30</td>\n",
       "      <td>39.10091</td>\n",
       "      <td>-94.577328</td>\n",
       "      <td>0</td>\n",
       "      <td>0</td>\n",
       "      <td>0</td>\n",
       "      <td>0</td>\n",
       "      <td>0</td>\n",
       "      <td>...</td>\n",
       "      <td>0</td>\n",
       "      <td>0</td>\n",
       "      <td>0</td>\n",
       "      <td>0</td>\n",
       "      <td>0</td>\n",
       "      <td>0</td>\n",
       "      <td>0</td>\n",
       "      <td>0</td>\n",
       "      <td>0</td>\n",
       "      <td>0</td>\n",
       "    </tr>\n",
       "    <tr>\n",
       "      <th>2</th>\n",
       "      <td>160028258</td>\n",
       "      <td>8/2/2017</td>\n",
       "      <td>13:50</td>\n",
       "      <td>39.17744</td>\n",
       "      <td>-94.572069</td>\n",
       "      <td>0</td>\n",
       "      <td>0</td>\n",
       "      <td>0</td>\n",
       "      <td>0</td>\n",
       "      <td>0</td>\n",
       "      <td>...</td>\n",
       "      <td>0</td>\n",
       "      <td>0</td>\n",
       "      <td>0</td>\n",
       "      <td>0</td>\n",
       "      <td>0</td>\n",
       "      <td>0</td>\n",
       "      <td>0</td>\n",
       "      <td>0</td>\n",
       "      <td>0</td>\n",
       "      <td>0</td>\n",
       "    </tr>\n",
       "    <tr>\n",
       "      <th>3</th>\n",
       "      <td>160034107</td>\n",
       "      <td>8/24/2017</td>\n",
       "      <td>16:22</td>\n",
       "      <td>39.033505</td>\n",
       "      <td>-94.547812</td>\n",
       "      <td>0</td>\n",
       "      <td>0</td>\n",
       "      <td>0</td>\n",
       "      <td>0</td>\n",
       "      <td>0</td>\n",
       "      <td>...</td>\n",
       "      <td>0</td>\n",
       "      <td>0</td>\n",
       "      <td>0</td>\n",
       "      <td>0</td>\n",
       "      <td>0</td>\n",
       "      <td>0</td>\n",
       "      <td>0</td>\n",
       "      <td>0</td>\n",
       "      <td>0</td>\n",
       "      <td>0</td>\n",
       "    </tr>\n",
       "    <tr>\n",
       "      <th>4</th>\n",
       "      <td>160063139</td>\n",
       "      <td>3/15/2017</td>\n",
       "      <td>14:06</td>\n",
       "      <td>39.235881</td>\n",
       "      <td>-94.466171</td>\n",
       "      <td>0</td>\n",
       "      <td>0</td>\n",
       "      <td>0</td>\n",
       "      <td>0</td>\n",
       "      <td>0</td>\n",
       "      <td>...</td>\n",
       "      <td>0</td>\n",
       "      <td>0</td>\n",
       "      <td>0</td>\n",
       "      <td>0</td>\n",
       "      <td>0</td>\n",
       "      <td>0</td>\n",
       "      <td>0</td>\n",
       "      <td>0</td>\n",
       "      <td>0</td>\n",
       "      <td>0</td>\n",
       "    </tr>\n",
       "  </tbody>\n",
       "</table>\n",
       "<p>5 rows × 295 columns</p>\n",
       "</div>"
      ],
      "text/plain": [
       "      Report        Date   Time   Latitude   Longitude  \\\n",
       "0  100080848   5/28/2017   3:44  39.053635  -94.595998   \n",
       "1  120046817  11/21/2017  13:30   39.10091  -94.577328   \n",
       "2  160028258    8/2/2017  13:50   39.17744  -94.572069   \n",
       "3  160034107   8/24/2017  16:22  39.033505  -94.547812   \n",
       "4  160063139   3/15/2017  14:06  39.235881  -94.466171   \n",
       "\n",
       "   Crime_Agg Assault - Domest  Crime_Agg Assault - Drive-  \\\n",
       "0                           0                           0   \n",
       "1                           0                           0   \n",
       "2                           0                           0   \n",
       "3                           0                           0   \n",
       "4                           0                           0   \n",
       "\n",
       "   Crime_Aggravated Assault  Crime_Aggravated Assault (  Crime_Armed Robbery  \\\n",
       "0                         0                           0                    0   \n",
       "1                         0                           0                    0   \n",
       "2                         0                           0                    0   \n",
       "3                         0                           0                    0   \n",
       "4                         0                           0                    0   \n",
       "\n",
       "     ...     Age_81.0  Age_82.0  Age_83.0  Age_84.0  Age_85.0  Age_86.0  \\\n",
       "0    ...            0         0         0         0         0         0   \n",
       "1    ...            0         0         0         0         0         0   \n",
       "2    ...            0         0         0         0         0         0   \n",
       "3    ...            0         0         0         0         0         0   \n",
       "4    ...            0         0         0         0         0         0   \n",
       "\n",
       "   Age_87.0  Age_88.0  Age_89.0  Age_90.0  \n",
       "0         0         0         0         0  \n",
       "1         0         0         0         0  \n",
       "2         0         0         0         0  \n",
       "3         0         0         0         0  \n",
       "4         0         0         0         0  \n",
       "\n",
       "[5 rows x 295 columns]"
      ]
     },
     "execution_count": 20,
     "metadata": {},
     "output_type": "execute_result"
    }
   ],
   "source": [
    "kc_crime_close.head()"
   ]
  }
 ],
 "metadata": {
  "kernelspec": {
   "display_name": "Python 3",
   "language": "python",
   "name": "python3"
  },
  "language_info": {
   "codemirror_mode": {
    "name": "ipython",
    "version": 3
   },
   "file_extension": ".py",
   "mimetype": "text/x-python",
   "name": "python",
   "nbconvert_exporter": "python",
   "pygments_lexer": "ipython3",
   "version": "3.6.3"
  }
 },
 "nbformat": 4,
 "nbformat_minor": 2
}
